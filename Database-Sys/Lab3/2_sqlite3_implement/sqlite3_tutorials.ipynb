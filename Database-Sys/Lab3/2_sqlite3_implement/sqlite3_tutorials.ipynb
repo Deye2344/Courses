{
 "cells": [
  {
   "cell_type": "markdown",
   "metadata": {},
   "source": [
    "### [Python 快速教程（标准库14）：数据库 (sqlite3)](http://python.jobbole.com/82760/)"
   ]
  },
  {
   "cell_type": "code",
   "execution_count": 1,
   "metadata": {},
   "outputs": [],
   "source": [
    "import sqlite3"
   ]
  },
  {
   "cell_type": "code",
   "execution_count": 48,
   "metadata": {},
   "outputs": [],
   "source": [
    "!rm data/test.db"
   ]
  },
  {
   "cell_type": "code",
   "execution_count": 49,
   "metadata": {},
   "outputs": [],
   "source": [
    "conn=sqlite3.connect(\"data/test.db\")\n",
    "c=conn.cursor()\n",
    "\n",
    "c.execute(\"\"\"\n",
    "create table category\n",
    "(id int primary key,sort int,name text)\n",
    "\"\"\")\n",
    "\n",
    "c.execute(\"\"\"\n",
    "create table book\n",
    "(\n",
    "id int primary key,\n",
    "sort int,\n",
    "name text,\n",
    "price real,\n",
    "category int,\n",
    "foreign key (category)references category(id)\n",
    ")\n",
    "\"\"\")\n",
    "\n",
    "conn.commit()\n",
    "conn.close()"
   ]
  },
  {
   "cell_type": "code",
   "execution_count": 50,
   "metadata": {},
   "outputs": [],
   "source": [
    "conn=sqlite3.connect(\"data/test.db\")\n",
    "c=conn.cursor()\n",
    "\n",
    "books=[\n",
    "    (1,1,'Cook',3.12,1),\n",
    "    (2,3,'Python',18.7,2),\n",
    "    (3,2,'OS',2.3,2)\n",
    "]\n",
    "\n",
    "c.execute(\"\"\"\n",
    "insert into category\n",
    "values (1,1,'kitchen')\n",
    "\"\"\")\n",
    "\n",
    "c.execute(\"insert into category values (?,?,?)\", [2,2,'computer'])\n",
    "\n",
    "c.executemany('INSERT INTO book VALUES (?, ?, ?, ?, ?)', books)\n",
    "\n",
    "conn.commit()\n",
    "conn.close()"
   ]
  },
  {
   "cell_type": "code",
   "execution_count": 51,
   "metadata": {},
   "outputs": [
    {
     "name": "stdout",
     "output_type": "stream",
     "text": [
      "('kitchen',)\n",
      "('computer',)\n",
      "[(1, 1, 'Cook', 3.12, 1)]\n",
      "('Cook', 3.12) <class 'tuple'>\n",
      "('OS', 2.3) <class 'tuple'>\n",
      "('Python', 18.7) <class 'tuple'>\n"
     ]
    }
   ],
   "source": [
    "conn=sqlite3.connect(\"data/test.db\")\n",
    "c=conn.cursor()\n",
    "\n",
    "c.execute(\"\"\"\n",
    "select name from category\n",
    "    order by sort\n",
    "\"\"\")\n",
    "#print(c.fetchall())\n",
    "print(c.fetchone())\n",
    "print(c.fetchone())\n",
    "\n",
    "c.execute(\"\"\"\n",
    "select * from book \n",
    "    where book.category=1\n",
    "\"\"\")\n",
    "print(c.fetchall())\n",
    "\n",
    "for row in c.execute('SELECT name, price FROM book ORDER BY sort'):\n",
    "    print(row,type(row))"
   ]
  },
  {
   "cell_type": "code",
   "execution_count": 52,
   "metadata": {},
   "outputs": [],
   "source": [
    "conn=sqlite3.connect(\"data/test.db\")\n",
    "c=conn.cursor()\n",
    "\n",
    "c.execute(\"\"\"\n",
    "update book \n",
    "set price=? \n",
    "where id=?\n",
    "\"\"\",\n",
    "         (10,2))\n",
    "conn.commit()\n",
    "conn.close()"
   ]
  },
  {
   "cell_type": "code",
   "execution_count": 53,
   "metadata": {},
   "outputs": [
    {
     "data": {
      "text/plain": [
       "<sqlite3.Cursor at 0x7f33fb609960>"
      ]
     },
     "execution_count": 53,
     "metadata": {},
     "output_type": "execute_result"
    }
   ],
   "source": [
    "conn=sqlite3.connect(\"data/test.db\")\n",
    "c=conn.cursor()\n",
    "\n",
    "c.execute(\"\"\"\n",
    "drop table book\n",
    "\"\"\")"
   ]
  },
  {
   "cell_type": "code",
   "execution_count": 41,
   "metadata": {},
   "outputs": [
    {
     "name": "stdout",
     "output_type": "stream",
     "text": [
      "('Cook', 3.12) <class 'tuple'>\n",
      "('OS', 2.3) <class 'tuple'>\n",
      "('Python', 18.7) <class 'tuple'>\n"
     ]
    }
   ],
   "source": []
  }
 ],
 "metadata": {
  "kernelspec": {
   "display_name": "Python 3",
   "language": "python",
   "name": "python3"
  },
  "language_info": {
   "codemirror_mode": {
    "name": "ipython",
    "version": 3
   },
   "file_extension": ".py",
   "mimetype": "text/x-python",
   "name": "python",
   "nbconvert_exporter": "python",
   "pygments_lexer": "ipython3",
   "version": "3.7.3"
  }
 },
 "nbformat": 4,
 "nbformat_minor": 2
}
