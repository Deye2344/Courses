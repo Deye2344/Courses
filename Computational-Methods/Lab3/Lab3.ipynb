{
 "cells": [
  {
   "cell_type": "code",
   "execution_count": 1,
   "metadata": {},
   "outputs": [],
   "source": [
    "def T(n,f,a,b):\n",
    "    h=(b-a)/n\n",
    "    tmp=f(a)/2+f(b)/2\n",
    "    for i in range(1,n):\n",
    "        tmp+=f(a+i*h)\n",
    "    return tmp*h"
   ]
  },
  {
   "cell_type": "code",
   "execution_count": 89,
   "metadata": {},
   "outputs": [],
   "source": [
    "def S(n,f,a,b):\n",
    "    h=(b-a)/n\n",
    "    tmp=f(a)+f(b)\n",
    "    for i in range(n//2):\n",
    "        tmp+=4*f(a+(2*i+1)*h)\n",
    "    for i in range(1,n//2):\n",
    "        tmp+=2*f(a+(2*i)*h)\n",
    "    return tmp*h/3"
   ]
  },
  {
   "cell_type": "code",
   "execution_count": 90,
   "metadata": {},
   "outputs": [],
   "source": [
    "from math import sin,log,cos"
   ]
  },
  {
   "cell_type": "code",
   "execution_count": 91,
   "metadata": {
    "scrolled": true
   },
   "outputs": [],
   "source": [
    "acc=cos(1)-cos(6)"
   ]
  },
  {
   "cell_type": "code",
   "execution_count": 92,
   "metadata": {},
   "outputs": [],
   "source": [
    "T_e=[acc-T(2**k,sin,1,6) for k in range(13)]\n",
    "S_e=[acc-S(2**k,sin,1,6) for k in range(13)]    "
   ]
  },
  {
   "cell_type": "code",
   "execution_count": 96,
   "metadata": {},
   "outputs": [],
   "source": [
    "T_d=[-log(T_e[i+1]/T_e[i])/log(2) for i in range(12)]\n",
    "S_d=[-log(abs(S_e[i+1]/S_e[i]))/log(2) for i in range(12)]"
   ]
  },
  {
   "cell_type": "code",
   "execution_count": 106,
   "metadata": {},
   "outputs": [
    {
     "name": "stdout",
     "output_type": "stream",
     "text": [
      "2.8942\n",
      "2.1283\n",
      "2.0291\n",
      "2.0071\n",
      "2.0018\n",
      "2.0004\n",
      "2.0001\n",
      "2.0000\n",
      "2.0000\n",
      "2.0000\n",
      "2.0000\n",
      "2.0000\n"
     ]
    }
   ],
   "source": [
    "for e in T_d:\n",
    "    print(\"%.4f\"%e)"
   ]
  },
  {
   "cell_type": "code",
   "execution_count": 98,
   "metadata": {},
   "outputs": [
    {
     "data": {
      "text/plain": [
       "[-1.3566271251305106,\n",
       " 0.2810298726756977,\n",
       " 0.006960909684480654,\n",
       " 0.0003731852395462698,\n",
       " 2.2506704078106843e-05,\n",
       " 1.3943891933876351e-06,\n",
       " 8.695929787361223e-08,\n",
       " 5.431993854720929e-09,\n",
       " 3.3945307675864456e-10,\n",
       " 2.1215307288713348e-11,\n",
       " 1.3256618025536682e-12,\n",
       " 8.1601392309949e-14,\n",
       " 5.828670879282072e-15]"
      ]
     },
     "execution_count": 98,
     "metadata": {},
     "output_type": "execute_result"
    }
   ],
   "source": []
  },
  {
   "cell_type": "code",
   "execution_count": null,
   "metadata": {},
   "outputs": [],
   "source": []
  }
 ],
 "metadata": {
  "kernelspec": {
   "display_name": "Python 3",
   "language": "python",
   "name": "python3"
  },
  "language_info": {
   "codemirror_mode": {
    "name": "ipython",
    "version": 3
   },
   "file_extension": ".py",
   "mimetype": "text/x-python",
   "name": "python",
   "nbconvert_exporter": "python",
   "pygments_lexer": "ipython3",
   "version": "3.7.0"
  }
 },
 "nbformat": 4,
 "nbformat_minor": 2
}
