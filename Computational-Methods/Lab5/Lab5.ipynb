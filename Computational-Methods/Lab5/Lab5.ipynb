{
 "cells": [
  {
   "cell_type": "code",
   "execution_count": 48,
   "metadata": {},
   "outputs": [],
   "source": [
    "def Jacobi(A,x,b):\n",
    "    n=len(b)\n",
    "    x1=x.copy()\n",
    "    x2=x.copy()\n",
    "    count=0\n",
    "    while max([abs(x1[i]-x2[i])for i in range(n)])>1e-5 or count==0:\n",
    "        for i in range(n):\n",
    "            x2[i]=b[i]\n",
    "            for j in range(n):\n",
    "                if j!=i:\n",
    "                    x2[i]+=-x1[j]*A[i][j]\n",
    "            x2[i]/=A[i][i]\n",
    "        count+=1\n",
    "        x1,x2=x2,x1\n",
    "    return (x1,count)"
   ]
  },
  {
   "cell_type": "code",
   "execution_count": 49,
   "metadata": {},
   "outputs": [],
   "source": [
    "def Gauss_Seidel(A,x,b):\n",
    "    n=len(b)\n",
    "    count=0\n",
    "    x=x.copy()\n",
    "    x_=x.copy()\n",
    "    while max([abs(x[i]-x_[i])for i in range(n)])>1e-5 or count==0:\n",
    "        x_=x.copy()\n",
    "        for i in range(n):\n",
    "            x[i]=b[i]\n",
    "            for j in range(n):\n",
    "                if j!=i:\n",
    "                    x[i]+=-x[j]*A[i][j]\n",
    "            x[i]/=A[i][i]\n",
    "        count+=1\n",
    "    return (x,count)"
   ]
  },
  {
   "cell_type": "code",
   "execution_count": 50,
   "metadata": {},
   "outputs": [],
   "source": [
    "A=[\n",
    "    [31,-13,0,0,0,-10,0,0,0],\n",
    "    [-13,35,-9,0,-11,0,0,0,0],\n",
    "    [0,-9,31,-10,0,0,0,0,0],\n",
    "    [0,0,-10,79,-30,0,0,0,-9],\n",
    "    [0,0,0,-30,57,-7,0,-5,0],\n",
    "    [0,0,0,0,-7,47,-30,0,0],\n",
    "    [0,0,0,0,0,-30,41,0,0],\n",
    "    [0,0,0,0,-5,0,0,27,-2],\n",
    "    [0,0,0,-9,0,0,0,-2,29]\n",
    "]\n",
    "b=[-15,27,-23,0,-20,12,-7,7,10]"
   ]
  },
  {
   "cell_type": "code",
   "execution_count": 90,
   "metadata": {},
   "outputs": [
    {
     "name": "stdout",
     "output_type": "stream",
     "text": [
      "33\n",
      "-2.892351260765e-01\n",
      "3.454396211471e-01\n",
      "-7.128124299557e-01\n",
      "-2.206069386520e-01\n",
      "-4.304010398191e-01\n",
      "1.543131771355e-01\n",
      "-5.782426206271e-02\n",
      "2.010544834746e-01\n",
      "2.902284370120e-01\n"
     ]
    }
   ],
   "source": [
    "x=[0.0 for i in range(9)]\n",
    "x,count=Jacobi(A,x,b)\n",
    "print(count)\n",
    "for i in x:\n",
    "    print(\"%.12e\"%i)"
   ]
  },
  {
   "cell_type": "code",
   "execution_count": 94,
   "metadata": {},
   "outputs": [
    {
     "name": "stdout",
     "output_type": "stream",
     "text": [
      "15\n",
      "-2.892268752997e-01\n",
      "3.454411091880e-01\n",
      "-7.128088073438e-01\n",
      "-2.206063726632e-01\n",
      "-4.303982760714e-01\n",
      "1.543126545657e-01\n",
      "-5.782000885436e-02\n",
      "2.010543960100e-01\n",
      "2.902293599328e-01\n"
     ]
    }
   ],
   "source": [
    "x=[0.0 for i in range(9)]\n",
    "x,count=Gauss_Seidel(A,x,b)\n",
    "print(count)\n",
    "for i in x:\n",
    "    print(\"%.12e\"%i)"
   ]
  },
  {
   "cell_type": "code",
   "execution_count": null,
   "metadata": {},
   "outputs": [],
   "source": []
  }
 ],
 "metadata": {
  "kernelspec": {
   "display_name": "Python 3",
   "language": "python",
   "name": "python3"
  },
  "language_info": {
   "codemirror_mode": {
    "name": "ipython",
    "version": 3
   },
   "file_extension": ".py",
   "mimetype": "text/x-python",
   "name": "python",
   "nbconvert_exporter": "python",
   "pygments_lexer": "ipython3",
   "version": "3.7.0"
  }
 },
 "nbformat": 4,
 "nbformat_minor": 2
}
