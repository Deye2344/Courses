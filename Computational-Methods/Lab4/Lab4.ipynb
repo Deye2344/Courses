{
 "cells": [
  {
   "cell_type": "code",
   "execution_count": 16,
   "metadata": {},
   "outputs": [],
   "source": [
    "#Newton_Method\n",
    "def Newton(f,g,x0,epsilon,MAXREPT):\n",
    "    x_k=[x0]\n",
    "    y_k=[f(x0)]\n",
    "    for i in range(MAXREPT):\n",
    "        x0=x_k[len(x_k)-1]\n",
    "        x1=x0-f(x0)/g(x0)\n",
    "        x_k.append(x1)\n",
    "        y_k.append(f(x1))\n",
    "        if abs(f(x1))<epsilon:\n",
    "            return (x_k,y_k)\n",
    "    return 0"
   ]
  },
  {
   "cell_type": "code",
   "execution_count": 17,
   "metadata": {},
   "outputs": [],
   "source": [
    "#Secant_Method\n",
    "def Secant(f,x0,x1,epsilon,MAXREPT):\n",
    "    x_k=[x0,x1]\n",
    "    y_k=[f(x0),f(x1)]\n",
    "    for i in range(MAXREPT):\n",
    "        x0=x_k[len(x_k)-2]\n",
    "        x1=x_k[len(x_k)-1]\n",
    "        x2=x1-f(x1)*(x1-x0)/(f(x1)-f(x0))\n",
    "        x_k.append(x2)\n",
    "        y_k.append(f(x2))\n",
    "        if abs(f(x2))<epsilon:\n",
    "            return (x_k,y_k)\n",
    "    return 0"
   ]
  },
  {
   "cell_type": "code",
   "execution_count": 18,
   "metadata": {},
   "outputs": [],
   "source": [
    "def f(x):\n",
    "    return 2*x**4+24*x**3+61*x**2-16*x+1"
   ]
  },
  {
   "cell_type": "code",
   "execution_count": 19,
   "metadata": {},
   "outputs": [],
   "source": [
    "def g(x):\n",
    "    return 8*x**3+72*x**2+122*x-16"
   ]
  },
  {
   "cell_type": "code",
   "execution_count": 43,
   "metadata": {},
   "outputs": [],
   "source": [
    "#(x,y)=Newton(f,g,0,1e-10,10000000)\n",
    "#(x,y)=Newton(f,g,1,1e-10,10000000)\n",
    "#(x,y)=Secant(f,0,0.1,1e-10,10000000)\n",
    "(x,y)=Secant(f,0.5,1.0,1e-10,10000000)"
   ]
  },
  {
   "cell_type": "code",
   "execution_count": 42,
   "metadata": {},
   "outputs": [
    {
     "name": "stdout",
     "output_type": "stream",
     "text": [
      "k=0\n",
      "k=1\n",
      "k=2\n",
      "k=3\n",
      "k=4\n",
      "k=5\n",
      "k=6\n",
      "k=7\n",
      "k=8\n",
      "k=9\n",
      "k=10\n",
      "k=11\n",
      "k=12\n",
      "k=13\n",
      "\n",
      "x_k\n",
      "0.000000000000e+00\n",
      "1.000000000000e-01\n",
      "1.035411058190e-01\n",
      "1.120858281072e-01\n",
      "1.156346859438e-01\n",
      "1.181829468231e-01\n",
      "1.196409053300e-01\n",
      "1.205229933328e-01\n",
      "1.210063890599e-01\n",
      "1.212339783325e-01\n",
      "1.213079454418e-01\n",
      "1.213197755884e-01\n",
      "1.213203396462e-01\n",
      "1.213203435584e-01\n",
      "\n",
      "y_k\n",
      "1.000000000000e+00\n",
      "3.420000000000e-02\n",
      "2.417951833043e-02\n",
      "7.095473154011e-03\n",
      "2.965518222788e-03\n",
      "1.079222604559e-03\n",
      "4.068164063683e-04\n",
      "1.440173238525e-04\n",
      "4.610054781695e-05\n",
      "1.130775027647e-05\n",
      "1.559168087528e-06\n",
      "7.095743470575e-08\n",
      "4.887535931530e-10\n",
      "1.554312234475e-13\n"
     ]
    }
   ],
   "source": [
    "for i in range(len(x)):\n",
    "    print(\"k=%d\"%i)\n",
    "print(\"\\nx_k\")    \n",
    "for i in x:\n",
    "    print(\"%.12e\"%i)\n",
    "    \n",
    "print(\"\\ny_k\")\n",
    "for i in y:\n",
    "    print(\"%.12e\"%i)"
   ]
  },
  {
   "cell_type": "code",
   "execution_count": 26,
   "metadata": {},
   "outputs": [],
   "source": []
  },
  {
   "cell_type": "code",
   "execution_count": 28,
   "metadata": {},
   "outputs": [],
   "source": []
  },
  {
   "cell_type": "code",
   "execution_count": 29,
   "metadata": {},
   "outputs": [
    {
     "data": {
      "text/plain": [
       "20"
      ]
     },
     "execution_count": 29,
     "metadata": {},
     "output_type": "execute_result"
    }
   ],
   "source": [
    "len(x)"
   ]
  },
  {
   "cell_type": "code",
   "execution_count": null,
   "metadata": {},
   "outputs": [],
   "source": []
  }
 ],
 "metadata": {
  "kernelspec": {
   "display_name": "Python 3",
   "language": "python",
   "name": "python3"
  },
  "language_info": {
   "codemirror_mode": {
    "name": "ipython",
    "version": 3
   },
   "file_extension": ".py",
   "mimetype": "text/x-python",
   "name": "python",
   "nbconvert_exporter": "python",
   "pygments_lexer": "ipython3",
   "version": "3.7.0"
  }
 },
 "nbformat": 4,
 "nbformat_minor": 2
}
