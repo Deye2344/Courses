{
 "cells": [
  {
   "cell_type": "code",
   "execution_count": 1,
   "metadata": {},
   "outputs": [],
   "source": [
    "import numpy as np\n",
    "import matplotlib.pyplot as plt\n",
    "from collections import Counter\n",
    "import cvxopt\n",
    "%matplotlib inline"
   ]
  },
  {
   "cell_type": "markdown",
   "metadata": {},
   "source": [
    "# Part I"
   ]
  },
  {
   "cell_type": "markdown",
   "metadata": {},
   "source": [
    "## data preprocessing"
   ]
  },
  {
   "cell_type": "code",
   "execution_count": 2,
   "metadata": {},
   "outputs": [],
   "source": [
    "category=['zero','one','two','three','four','five','six','seven','eight','nine','ten','eleven','twelve','thirteen','fourteen','fifteen','sixteen','draw']\n",
    "category_dict={} # \n",
    "for i,s in enumerate(category):\n",
    "    category_dict[s]=i\n",
    "\n",
    "char=['a','b','c','d','e','f','g','h']\n",
    "char_dict={}\n",
    "for i,s in enumerate(char,start=1):\n",
    "    char_dict[s]=i\n",
    "\n",
    "data_temp=[]\n",
    "with open(\"datasets/Chess/trainset.csv\") as f:\n",
    "    count=0\n",
    "    for line in f:\n",
    "        count+=1\n",
    "        if count!=1:\n",
    "            line=line.strip().split(',')\n",
    "            data_temp.append([char_dict[line[0]],int(line[1]),char_dict[line[2]],int(line[3]),char_dict[line[4]],int(line[5]),category_dict[line[6]]])\n",
    "train_data=np.array(data_temp)\n",
    "\n",
    "data_temp=[]\n",
    "with open(\"datasets/Chess/testset.csv\") as f:\n",
    "    count=0\n",
    "    for line in f:\n",
    "        count+=1\n",
    "        if count!=1:\n",
    "            line=line.strip().split(',')\n",
    "            data_temp.append([char_dict[line[0]],int(line[1]),char_dict[line[2]],int(line[3]),char_dict[line[4]],int(line[5]),category_dict[line[6]]])\n",
    "test_data=np.array(data_temp)\n",
    "\n",
    "np.save(\"datasets/Chess/train_data.npy\",train_data)\n",
    "np.save(\"datasets/Chess/test_data.npy\",test_data)"
   ]
  },
  {
   "cell_type": "markdown",
   "metadata": {},
   "source": [
    "## utils"
   ]
  },
  {
   "cell_type": "code",
   "execution_count": 3,
   "metadata": {},
   "outputs": [],
   "source": [
    "# data independent\n",
    "def classification_evaluation(testlabel,ypred):\n",
    "    Accuracy=(Counter(np.equal(ypred,testlabel))[True])/testlabel.shape[0]\n",
    "    \n",
    "    category=np.unique(testlabel)\n",
    "    #category.shape[0]\n",
    "    evaluation=np.zeros((category.max()+1,4),dtype=int)#4: TP,FP,FN,TN\n",
    "    for c in category:\n",
    "        evaluation[c,0]=np.count_nonzero(np.logical_and((testlabel==c),(ypred==c)))#TP\n",
    "        evaluation[c,1]=np.count_nonzero(np.logical_and((testlabel!=c),(ypred==c)))#FP\n",
    "        evaluation[c,2]=np.count_nonzero(np.logical_and((testlabel==c),(ypred!=c)))#FN\n",
    "        evaluation[c,3]=np.count_nonzero(np.logical_and((testlabel!=c),(ypred!=c)))#TN\n",
    "        \n",
    "    Macro_P=evaluation[:,0]/(evaluation[:,0]+evaluation[:,1])\n",
    "    Macro_R=evaluation[:,0]/(evaluation[:,0]+evaluation[:,2])\n",
    "    Macro_F1=(2*Macro_P*Macro_R/(Macro_P+Macro_R)).mean()\n",
    "    \n",
    "    reduced_evaluation=evaluation.sum(axis=0)\n",
    "    Micro_P=reduced_evaluation[0]/(reduced_evaluation[0]+reduced_evaluation[1])\n",
    "    Micro_R=reduced_evaluation[0]/(reduced_evaluation[0]+reduced_evaluation[2])\n",
    "    Micro_F1=2*Micro_P*Micro_R/(Micro_P+Micro_R)\n",
    "    return ypred,Accuracy,Macro_F1,Micro_F1"
   ]
  },
  {
   "cell_type": "code",
   "execution_count": 4,
   "metadata": {},
   "outputs": [],
   "source": [
    "# data independent\n",
    "# for 5-folf cross validation\n",
    "def split_data_5_fold(train_data):\n",
    "    step=train_data.shape[0]//5\n",
    "    for i in range(5):\n",
    "        begin_test=i*step\n",
    "        end_test=(i+1)*step\n",
    "        trainset=np.vstack((train_data[0:begin_test,:6],train_data[end_test:,:6]))\n",
    "        trainlabel=np.hstack((train_data[0:begin_test,6],train_data[end_test:,6]))\n",
    "        testset=train_data[begin_test:end_test,:6]\n",
    "        testlabel=train_data[begin_test:end_test,6]\n",
    "        yield i,trainset,trainlabel,testset,testlabel"
   ]
  },
  {
   "cell_type": "markdown",
   "metadata": {},
   "source": [
    "## common procedure\n",
    "\n",
    "need to paste to all seperate files"
   ]
  },
  {
   "cell_type": "code",
   "execution_count": 5,
   "metadata": {},
   "outputs": [],
   "source": [
    "train_data=np.load(\"datasets/Chess/train_data.npy\")\n",
    "test_data=np.load(\"datasets/Chess/test_data.npy\")\n",
    "np.random.shuffle(train_data)"
   ]
  },
  {
   "cell_type": "code",
   "execution_count": 6,
   "metadata": {},
   "outputs": [
    {
     "data": {
      "text/plain": [
       "((22445, 7), (5611, 7))"
      ]
     },
     "execution_count": 6,
     "metadata": {},
     "output_type": "execute_result"
    }
   ],
   "source": [
    "train_data.shape,test_data.shape"
   ]
  },
  {
   "cell_type": "markdown",
   "metadata": {},
   "source": [
    "## kNN"
   ]
  },
  {
   "cell_type": "code",
   "execution_count": 12,
   "metadata": {},
   "outputs": [],
   "source": [
    "# retuen ypred,Accuracy,Macro_F1,Micro_F1\n",
    "# No 5-fold cross validation\n",
    "# category: from 0 :int (MUST)\n",
    "def kNN(trainset,trainlabel,testset,testlabel,k):\n",
    "    #predict\n",
    "    ypred=np.empty(testset.shape[0],dtype=testlabel.dtype)\n",
    "    for i,X in enumerate(testset):\n",
    "        ypred[i]=np.bincount(trainlabel[np.argsort(np.linalg.norm(X-trainset,axis=1))[:k]]).argmax()\n",
    "    #evaluation\n",
    "    return classification_evaluation(testlabel,ypred)"
   ]
  },
  {
   "cell_type": "code",
   "execution_count": 408,
   "metadata": {
    "scrolled": true
   },
   "outputs": [
    {
     "name": "stdout",
     "output_type": "stream",
     "text": [
      "k=1,fold=0,Micro_F1=0.537090666072622\n",
      "k=1,fold=1,Micro_F1=0.5317442637558476\n",
      "k=1,fold=2,Micro_F1=0.5453330363109824\n",
      "k=1,fold=3,Micro_F1=0.5290710625974605\n",
      "k=1,fold=4,Micro_F1=0.5266206282022722\n",
      "k=3,fold=0,Micro_F1=0.6150590331922478\n",
      "k=3,fold=1,Micro_F1=0.6036979282691023\n",
      "k=3,fold=2,Micro_F1=0.6065938961906884\n",
      "k=3,fold=3,Micro_F1=0.6028068612163066\n",
      "k=3,fold=4,Micro_F1=0.6019157941635108\n"
     ]
    }
   ],
   "source": [
    "#5-fold cross validation\n",
    "k_parameter=[i for i in range(1,4,2)]\n",
    "Micro_F1_matrix=np.zeros((len(k_parameter),5),dtype=float)\n",
    "step=train_data.shape[0]//5\n",
    "for k_i in range(len(k_parameter)):\n",
    "    k=k_parameter[k_i]\n",
    "    for i,trainset,trainlabel,testset,testlabel in split_data_5_fold(train_data):        \n",
    "        ypred,Accuracy,Macro_F1,Micro_F1=kNN(trainset,trainlabel,testset,testlabel,k)\n",
    "        Micro_F1_matrix[k_i,i]=Micro_F1\n",
    "        print(\"k={},fold={},Micro_F1={}\".format(k,i,Micro_F1))"
   ]
  },
  {
   "cell_type": "code",
   "execution_count": 185,
   "metadata": {
    "scrolled": true
   },
   "outputs": [
    {
     "name": "stdout",
     "output_type": "stream",
     "text": [
      "k=1,fold=0,Micro_F1=0.5431053686789931\n"
     ]
    },
    {
     "name": "stderr",
     "output_type": "stream",
     "text": [
      "/home/drdh/anaconda3/lib/python3.7/site-packages/ipykernel_launcher.py:15: RuntimeWarning: invalid value encountered in true_divide\n",
      "  from ipykernel import kernelapp as app\n"
     ]
    },
    {
     "name": "stdout",
     "output_type": "stream",
     "text": [
      "k=1,fold=1,Micro_F1=0.5297393628870573\n",
      "k=1,fold=2,Micro_F1=0.5206059255959011\n",
      "k=1,fold=3,Micro_F1=0.5290710625974605\n",
      "k=1,fold=4,Micro_F1=0.5424370683893963\n",
      "k=3,fold=0,Micro_F1=0.6179550011138338\n",
      "k=3,fold=1,Micro_F1=0.601470260637113\n",
      "k=3,fold=2,Micro_F1=0.5985742927155269\n",
      "k=3,fold=3,Micro_F1=0.5965693918467365\n",
      "k=3,fold=4,Micro_F1=0.6110492314546669\n",
      "k=5,fold=0,Micro_F1=0.7210960124749387\n",
      "k=5,fold=1,Micro_F1=0.7311205168188907\n",
      "k=5,fold=2,Micro_F1=0.7086210737357987\n",
      "k=5,fold=3,Micro_F1=0.7112942748941858\n",
      "k=5,fold=4,Micro_F1=0.7222098462909334\n",
      "k=7,fold=0,Micro_F1=0.7288928491869014\n",
      "k=7,fold=1,Micro_F1=0.7259968812653153\n",
      "k=7,fold=2,Micro_F1=0.7148585431053688\n",
      "k=7,fold=3,Micro_F1=0.7141902428157718\n",
      "k=7,fold=4,Micro_F1=0.736466919135665\n",
      "k=9,fold=0,Micro_F1=0.7014925373134329\n",
      "k=9,fold=1,Micro_F1=0.7017153040766317\n",
      "k=9,fold=2,Micro_F1=0.6894631321006905\n",
      "k=9,fold=3,Micro_F1=0.6907997326798841\n",
      "k=9,fold=4,Micro_F1=0.7068389396302072\n",
      "k=11,fold=0,Micro_F1=0.6792158609935398\n",
      "k=11,fold=1,Micro_F1=0.684785030073513\n",
      "k=11,fold=2,Micro_F1=0.6651815549120071\n",
      "k=11,fold=3,Micro_F1=0.6707507239919804\n",
      "k=11,fold=4,Micro_F1=0.6801069280463354\n",
      "k=13,fold=0,Micro_F1=0.6636221875696147\n",
      "k=13,fold=1,Micro_F1=0.6685230563599911\n",
      "k=13,fold=2,Micro_F1=0.6571619514368456\n",
      "k=13,fold=3,Micro_F1=0.6551570505680553\n",
      "k=13,fold=4,Micro_F1=0.6680775228335932\n",
      "k=15,fold=0,Micro_F1=0.6547115170416574\n",
      "k=15,fold=1,Micro_F1=0.6571619514368456\n",
      "k=15,fold=2,Micro_F1=0.6515927823568723\n",
      "k=15,fold=3,Micro_F1=0.652706616172867\n",
      "k=15,fold=4,Micro_F1=0.6553798173312542\n",
      "k=17,fold=0,Micro_F1=0.6458008465137002\n",
      "k=17,fold=1,Micro_F1=0.6553798173312542\n",
      "k=17,fold=2,Micro_F1=0.6446870126977055\n",
      "k=17,fold=3,Micro_F1=0.6446870126977055\n",
      "k=17,fold=4,Micro_F1=0.6520383158832702\n",
      "k=19,fold=0,Micro_F1=0.6364446424593451\n",
      "k=19,fold=1,Micro_F1=0.6435731788817108\n",
      "k=19,fold=2,Micro_F1=0.6442414791713077\n",
      "k=19,fold=3,Micro_F1=0.6393406103809312\n",
      "k=19,fold=4,Micro_F1=0.6388950768545333\n"
     ]
    }
   ],
   "source": [
    "#5-fold cross validation\n",
    "k_parameter=[i for i in range(1,20,2)]\n",
    "Micro_F1_matrix=np.zeros((len(k_parameter),5),dtype=float)\n",
    "step=train_data.shape[0]//5\n",
    "for k_i in range(len(k_parameter)):\n",
    "    k=k_parameter[k_i]\n",
    "    for i in range(5):#5-fold\n",
    "        begin_test=i*step\n",
    "        end_test=(i+1)*step\n",
    "        trainset=np.vstack((train_data[0:begin_test,:6],train_data[end_test:,:6]))\n",
    "        trainlabel=np.hstack((train_data[0:begin_test,6],train_data[end_test:,6]))\n",
    "        testset=train_data[begin_test:end_test,:6]\n",
    "        testlabel=train_data[begin_test:end_test,6]\n",
    "        \n",
    "        ypred,Accuracy,Macro_F1,Micro_F1=kNN(trainset,trainlabel,testset,testlabel,k)\n",
    "        Micro_F1_matrix[k_i,i]=Micro_F1\n",
    "        print(\"k={},fold={},Micro_F1={}\".format(k,i,Micro_F1))"
   ]
  },
  {
   "cell_type": "code",
   "execution_count": 200,
   "metadata": {},
   "outputs": [
    {
     "data": {
      "image/png": "[encoded data removed]",
      "text/plain": [
       "<Figure size 432x288 with 1 Axes>"
      ]
     },
     "metadata": {
      "needs_background": "light"
     },
     "output_type": "display_data"
    }
   ],
   "source": [
    "Micro_F1_mean=Micro_F1_matrix.mean(axis=1)\n",
    "plt.figure(1)\n",
    "plt.scatter(k_parameter,Micro_F1_mean)\n",
    "plt.title(\"kNN: k- average Micro_F1 over 5-fold\")\n",
    "plt.grid(True)\n",
    "plt.ylabel(\"Micro_F1\")\n",
    "plt.xlabel(\"k\")\n",
    "plt.xticks(k_parameter)\n",
    "plt.savefig(\"graph/PartI/kNN/k_Micro_F1.png\",dpi=1000)\n",
    "plt.show()"
   ]
  },
  {
   "cell_type": "code",
   "execution_count": 208,
   "metadata": {
    "scrolled": true
   },
   "outputs": [
    {
     "name": "stdout",
     "output_type": "stream",
     "text": [
      "(1, 0.5329917576297617)\n",
      "(3, 0.6051236355535754)\n",
      "(5, 0.7188683448429494)\n",
      "(7, 0.7240810871018044)\n",
      "(9, 0.6980619291601693)\n",
      "(11, 0.6760080196034751)\n",
      "(13, 0.6625083537536199)\n",
      "(15, 0.6543105368678993)\n",
      "(17, 0.6485186010247271)\n",
      "(19, 0.6404989975495656)\n"
     ]
    }
   ],
   "source": [
    "for i in zip(k_parameter,Micro_F1_mean):\n",
    "    print(i)"
   ]
  },
  {
   "cell_type": "code",
   "execution_count": 203,
   "metadata": {},
   "outputs": [
    {
     "name": "stdout",
     "output_type": "stream",
     "text": [
      "0.7820352878274818 0.7183239169477872 0.7820352878274818\n"
     ]
    }
   ],
   "source": [
    "# test\n",
    "k=k_parameter[Micro_F1_mean.argmax()]\n",
    "ypred,Accuracy,Macro_F1,Micro_F1=kNN(train_data[:,:6],train_data[:,6],test_data[:,:6],test_data[:,6],k)\n",
    "print(Accuracy,Macro_F1,Micro_F1)"
   ]
  },
  {
   "cell_type": "markdown",
   "metadata": {},
   "source": [
    "## decisionTree"
   ]
  },
  {
   "cell_type": "code",
   "execution_count": 11,
   "metadata": {},
   "outputs": [],
   "source": [
    "def createTree(trainset,trainlabel,testset,testlabel):\n",
    "    attribute=[i for i in range(trainset.shape[1])]\n",
    "    attribute_length=len(attribute)\n",
    "    attribute_value=[np.unique(trainset[:,i]) for i in range(6)]\n",
    "    \n",
    "    def chooseBestFeature(trainset,trainlabel,attribute):\n",
    "        def Ent(trainlabel):\n",
    "            category_count=np.bincount(trainlabel)\n",
    "            categoty_probability=category_count[category_count.nonzero()]/trainlabel.shape[0]\n",
    "            return -(categoty_probability*np.log(categoty_probability)/np.log(2)).sum()\n",
    "        \n",
    "        gain=np.full(attribute_length,-np.inf)\n",
    "        Ent_D=Ent(trainlabel)\n",
    "        for a in attribute:\n",
    "            gain[a]=Ent_D\n",
    "            for v in np.unique(trainset[:,a]):\n",
    "                D_v_index=(trainset[:,a]==v)\n",
    "                gain[a]-=D_v_index.sum()/trainset.shape[0]*Ent(trainlabel[D_v_index])\n",
    "        return gain.argmax()\n",
    "        \n",
    "    def treeGenerate(trainset,trainlabel,attribute):\n",
    "        if np.equal(trainlabel,trainlabel[0]).all():#same category\n",
    "            return trainlabel[0]\n",
    "        if len(attribute)==0 or np.equal(trainset,trainset[0]).all():\n",
    "            return np.bincount(trainlabel).argmax()\n",
    "        attr=chooseBestFeature(trainset,trainlabel,attribute)\n",
    "        attribute=attribute.copy()\n",
    "        attribute.remove(attr)\n",
    "        subtree={}\n",
    "        for v in attribute_value[attr]:\n",
    "            D_v_index=(trainset[:,attr]==v)\n",
    "            if D_v_index.sum()==0:\n",
    "                subtree[str(attr)+':'+str(v)]=np.bincount(trainlabel).argmax()\n",
    "            else:\n",
    "                subtree[str(attr)+':'+str(v)]=treeGenerate(trainset[D_v_index],trainlabel[D_v_index],attribute)\n",
    "        return subtree\n",
    "        \n",
    "    def predict(tree,X):\n",
    "        if type(tree)==dict:\n",
    "            attr=int(list(tree.keys())[0][0])\n",
    "            return predict(tree[str(attr)+':'+str(X[attr])],X)\n",
    "        else:\n",
    "            return tree\n",
    "        \n",
    "    tree=treeGenerate(trainset,trainlabel,attribute)\n",
    "    #predict\n",
    "    ypred=np.empty(testset.shape[0],dtype=testlabel.dtype)\n",
    "    for i,X in enumerate(testset):\n",
    "        ypred[i]=predict(tree,X)\n",
    "    #evaluation\n",
    "    return classification_evaluation(testlabel,ypred)"
   ]
  },
  {
   "cell_type": "code",
   "execution_count": 411,
   "metadata": {},
   "outputs": [
    {
     "name": "stdout",
     "output_type": "stream",
     "text": [
      "fold=0,Micro_F1=0.5582535085765203\n",
      "fold=1,Micro_F1=0.5591445756293161\n",
      "fold=2,Micro_F1=0.5642682111828915\n",
      "fold=3,Micro_F1=0.5593673423925151\n",
      "fold=4,Micro_F1=0.5544664736021385\n"
     ]
    }
   ],
   "source": [
    "#5-fold cross validation\n",
    "Micro_F1_matrix=np.zeros((len(k_parameter),5),dtype=float)\n",
    "for i,trainset,trainlabel,testset,testlabel in split_data_5_fold(train_data):        \n",
    "    ypred,Accuracy,Macro_F1,Micro_F1=createTree(trainset,trainlabel,testset,testlabel)\n",
    "    Micro_F1_matrix[k_i,i]=Micro_F1\n",
    "    print(\"fold={},Micro_F1={}\".format(i,Micro_F1))"
   ]
  },
  {
   "cell_type": "code",
   "execution_count": 412,
   "metadata": {},
   "outputs": [
    {
     "name": "stdout",
     "output_type": "stream",
     "text": [
      "0.5963286401710925 0.5495741554985076 0.5963286401710925\n"
     ]
    }
   ],
   "source": [
    "#test\n",
    "ypred,Accuracy,Macro_F1,Micro_F1=createTree(train_data[:,:6],train_data[:,6],test_data[:,:6],test_data[:,6])\n",
    "print(Accuracy,Macro_F1,Micro_F1)"
   ]
  },
  {
   "cell_type": "code",
   "execution_count": 415,
   "metadata": {},
   "outputs": [],
   "source": [
    "# decision tree visualization ==> HOW ?"
   ]
  },
  {
   "cell_type": "markdown",
   "metadata": {},
   "source": [
    "## SVM"
   ]
  },
  {
   "cell_type": "code",
   "execution_count": 7,
   "metadata": {},
   "outputs": [],
   "source": [
    "# Hide cvxopt output\n",
    "cvxopt.solvers.options['show_progress'] = False\n",
    "def multiClassSVM(trainset,trainlabel,testset,testlabel,sigma,C):\n",
    "    def kernel(x1,x2):\n",
    "        if sigma==0:\n",
    "            return np.inner(x1,x2)\n",
    "        else:\n",
    "            return np.exp(-(np.linalg.norm(x1-x2)/sigma)**2)\n",
    "\n",
    "    print(\"begin kernel\")\n",
    "    part=10\n",
    "    step=trainset.shape[0]//part\n",
    "    trainset=trainset[:part*step]\n",
    "    trainlabel=trainlabel[:part*step]\n",
    "    \n",
    "    n_samples,n_features=trainset.shape\n",
    "    x1=trainset.reshape((trainset.shape[0],1,trainset.shape[1]))\n",
    "    x2=trainset.reshape((1,trainset.shape[0],trainset.shape[1]))\n",
    "    sigma*=(np.linalg.norm(x1[0:step]-x2[:,0:step],axis=2)**2).sum()/(step*step)\n",
    "    kernel_matrix=np.zeros((n_samples,n_samples))\n",
    "    for i in range(part):\n",
    "        for j in range(part):\n",
    "            row_begin=i*step\n",
    "            row_end=(i+1)*step\n",
    "            col_begin=j*step\n",
    "            col_end=(j+1)*step\n",
    "\n",
    "            kernel_matrix[row_begin:row_end,col_begin:col_end]=np.exp(-(np.linalg.norm(x1[row_begin:row_end]-x2[:,col_begin:col_end],axis=2)/sigma)**2)\n",
    "    #kernel_matrix=np.exp(-(np.linalg.norm(x1-x2,axis=2)/sigma)**2)\n",
    "    #kernel_matrix=np.zeros((n_samples,n_samples))\n",
    "    #for i in range(n_samples):\n",
    "    #    if i%500==0:\n",
    "    #        print(\"calculate kernel at {}\".format(i))\n",
    "    #    for j in range(n_samples):\n",
    "    #        kernel_matrix[i,j]=kernel(trainset[i],trainset[j])\n",
    "    #print(\"end kernel\")\n",
    "    \n",
    "    def softSVM(trainset,y,testset):# binary\n",
    "        def fit(X,y):\n",
    "            P = cvxopt.matrix(np.outer(y, y) * kernel_matrix, tc='d')\n",
    "            q = cvxopt.matrix(np.ones(n_samples) * -1)\n",
    "            A = cvxopt.matrix(y, (1, n_samples), tc='d')\n",
    "            b = cvxopt.matrix(0, tc='d')\n",
    "\n",
    "            G_max = np.identity(n_samples) * (-1)\n",
    "            G_min = np.identity(n_samples)\n",
    "            G = cvxopt.matrix(np.vstack((G_max, G_min)))\n",
    "            h_max = cvxopt.matrix(np.zeros(n_samples))\n",
    "            h_min = cvxopt.matrix(np.ones(n_samples) * C)\n",
    "            h = cvxopt.matrix(np.vstack((h_max, h_min)))\n",
    "            \n",
    "            print(\"begin cvxopt\")\n",
    "            minimization = cvxopt.solvers.qp(P, q, G, h, A, b)\n",
    "            print(\"end cvxopt\")\n",
    "            \n",
    "            lagr_mult = np.ravel(minimization['x'])\n",
    "            \n",
    "            idx = lagr_mult > 1e-7\n",
    "\n",
    "            lagr_multipliers = lagr_mult[idx]\n",
    "            support_vectors = X[idx]\n",
    "            support_vector_labels = y[idx]\n",
    "            \n",
    "            intercept = support_vector_labels[0]\n",
    "            for i in range(len(lagr_multipliers)):\n",
    "                intercept -= lagr_multipliers[i] * support_vector_labels[i] * kernel(support_vectors[i], support_vectors[0])\n",
    "            return lagr_multipliers,support_vectors,support_vector_labels,intercept\n",
    "            \n",
    "        lagr_multipliers,support_vectors,support_vector_labels,intercept=fit(trainset,y)\n",
    "        y_pred=np.empty(testset.shape[0],dtype=float)\n",
    "        for idx,X in enumerate(testset):\n",
    "            prediction=0\n",
    "            for i in range(len(lagr_multipliers)):\n",
    "                prediction+=lagr_multipliers[i] * support_vector_labels[i] * kernel(support_vectors[i], X)\n",
    "                \n",
    "            prediction+=intercept\n",
    "            y_pred[idx]=prediction\n",
    "        return y_pred\n",
    "    \n",
    "    category=np.unique(trainlabel)\n",
    "    ypred_binary=np.empty((testset.shape[0],category.shape[0]),dtype=float)\n",
    "    for i in range(category.shape[0]):\n",
    "        y=np.full(trainlabel.shape[0],-1,dtype=int)\n",
    "        y[np.equal(trainlabel,i)]=1\n",
    "        ypred_binary[:,i]=softSVM(trainset,y,testset)\n",
    "        print(\"for category {}\".format(i))\n",
    "    \n",
    "    ypred=category[ypred_binary.argmax(axis=1)]\n",
    "    return classification_evaluation(testlabel,ypred)"
   ]
  },
  {
   "cell_type": "code",
   "execution_count": 10,
   "metadata": {},
   "outputs": [],
   "source": [
    "total=5000\n",
    "step=testlabel.shape[0]//50\n",
    "#step=1\n",
    "trainset,trainlabel,testset,testlabel=train_data[:total,:6],train_data[:total,6],test_data[::step,:6],test_data[::step,6]\n",
    "trainset=(trainset-trainset.mean(axis=0))/trainset.std(axis=0)\n",
    "testset=(testset-testset.mean(axis=0))/testset.std(axis=0)"
   ]
  },
  {
   "cell_type": "code",
   "execution_count": 11,
   "metadata": {
    "scrolled": true
   },
   "outputs": [
    {
     "name": "stdout",
     "output_type": "stream",
     "text": [
      "begin kernel\n",
      "begin cvxopt\n"
     ]
    },
    {
     "ename": "KeyboardInterrupt",
     "evalue": "",
     "output_type": "error",
     "traceback": [
      "\u001b[0;31m---------------------------------------------------------------------------\u001b[0m",
      "\u001b[0;31mKeyboardInterrupt\u001b[0m                         Traceback (most recent call last)",
      "\u001b[0;32m<ipython-input-11-78548b40e9ff>\u001b[0m in \u001b[0;36m<module>\u001b[0;34m\u001b[0m\n\u001b[1;32m      1\u001b[0m \u001b[0msigma\u001b[0m\u001b[0;34m,\u001b[0m\u001b[0mC\u001b[0m\u001b[0;34m=\u001b[0m\u001b[0;36m0.3\u001b[0m\u001b[0;34m,\u001b[0m\u001b[0;36m2\u001b[0m\u001b[0;34m\u001b[0m\u001b[0;34m\u001b[0m\u001b[0m\n\u001b[0;32m----> 2\u001b[0;31m \u001b[0mypred\u001b[0m\u001b[0;34m,\u001b[0m\u001b[0mAccuracy\u001b[0m\u001b[0;34m,\u001b[0m\u001b[0mMacro_F1\u001b[0m\u001b[0;34m,\u001b[0m\u001b[0mMicro_F1\u001b[0m\u001b[0;34m=\u001b[0m\u001b[0mmultiClassSVM\u001b[0m\u001b[0;34m(\u001b[0m\u001b[0mtrainset\u001b[0m\u001b[0;34m,\u001b[0m\u001b[0mtrainlabel\u001b[0m\u001b[0;34m,\u001b[0m\u001b[0mtestset\u001b[0m\u001b[0;34m,\u001b[0m\u001b[0mtestlabel\u001b[0m\u001b[0;34m,\u001b[0m\u001b[0msigma\u001b[0m\u001b[0;34m,\u001b[0m\u001b[0mC\u001b[0m\u001b[0;34m)\u001b[0m\u001b[0;34m\u001b[0m\u001b[0;34m\u001b[0m\u001b[0m\n\u001b[0m",
      "\u001b[0;32m<ipython-input-7-073251fae4c8>\u001b[0m in \u001b[0;36mmultiClassSVM\u001b[0;34m(trainset, trainlabel, testset, testlabel, sigma, C)\u001b[0m\n\u001b[1;32m     83\u001b[0m         \u001b[0my\u001b[0m\u001b[0;34m=\u001b[0m\u001b[0mnp\u001b[0m\u001b[0;34m.\u001b[0m\u001b[0mfull\u001b[0m\u001b[0;34m(\u001b[0m\u001b[0mtrainlabel\u001b[0m\u001b[0;34m.\u001b[0m\u001b[0mshape\u001b[0m\u001b[0;34m[\u001b[0m\u001b[0;36m0\u001b[0m\u001b[0;34m]\u001b[0m\u001b[0;34m,\u001b[0m\u001b[0;34m-\u001b[0m\u001b[0;36m1\u001b[0m\u001b[0;34m,\u001b[0m\u001b[0mdtype\u001b[0m\u001b[0;34m=\u001b[0m\u001b[0mint\u001b[0m\u001b[0;34m)\u001b[0m\u001b[0;34m\u001b[0m\u001b[0;34m\u001b[0m\u001b[0m\n\u001b[1;32m     84\u001b[0m         \u001b[0my\u001b[0m\u001b[0;34m[\u001b[0m\u001b[0mnp\u001b[0m\u001b[0;34m.\u001b[0m\u001b[0mequal\u001b[0m\u001b[0;34m(\u001b[0m\u001b[0mtrainlabel\u001b[0m\u001b[0;34m,\u001b[0m\u001b[0mi\u001b[0m\u001b[0;34m)\u001b[0m\u001b[0;34m]\u001b[0m\u001b[0;34m=\u001b[0m\u001b[0;36m1\u001b[0m\u001b[0;34m\u001b[0m\u001b[0;34m\u001b[0m\u001b[0m\n\u001b[0;32m---> 85\u001b[0;31m         \u001b[0mypred_binary\u001b[0m\u001b[0;34m[\u001b[0m\u001b[0;34m:\u001b[0m\u001b[0;34m,\u001b[0m\u001b[0mi\u001b[0m\u001b[0;34m]\u001b[0m\u001b[0;34m=\u001b[0m\u001b[0msoftSVM\u001b[0m\u001b[0;34m(\u001b[0m\u001b[0mtrainset\u001b[0m\u001b[0;34m,\u001b[0m\u001b[0my\u001b[0m\u001b[0;34m,\u001b[0m\u001b[0mtestset\u001b[0m\u001b[0;34m)\u001b[0m\u001b[0;34m\u001b[0m\u001b[0;34m\u001b[0m\u001b[0m\n\u001b[0m\u001b[1;32m     86\u001b[0m         \u001b[0mprint\u001b[0m\u001b[0;34m(\u001b[0m\u001b[0;34m\"for category {}\"\u001b[0m\u001b[0;34m.\u001b[0m\u001b[0mformat\u001b[0m\u001b[0;34m(\u001b[0m\u001b[0mi\u001b[0m\u001b[0;34m)\u001b[0m\u001b[0;34m)\u001b[0m\u001b[0;34m\u001b[0m\u001b[0;34m\u001b[0m\u001b[0m\n\u001b[1;32m     87\u001b[0m \u001b[0;34m\u001b[0m\u001b[0m\n",
      "\u001b[0;32m<ipython-input-7-073251fae4c8>\u001b[0m in \u001b[0;36msoftSVM\u001b[0;34m(trainset, y, testset)\u001b[0m\n\u001b[1;32m     67\u001b[0m             \u001b[0;32mreturn\u001b[0m \u001b[0mlagr_multipliers\u001b[0m\u001b[0;34m,\u001b[0m\u001b[0msupport_vectors\u001b[0m\u001b[0;34m,\u001b[0m\u001b[0msupport_vector_labels\u001b[0m\u001b[0;34m,\u001b[0m\u001b[0mintercept\u001b[0m\u001b[0;34m\u001b[0m\u001b[0;34m\u001b[0m\u001b[0m\n\u001b[1;32m     68\u001b[0m \u001b[0;34m\u001b[0m\u001b[0m\n\u001b[0;32m---> 69\u001b[0;31m         \u001b[0mlagr_multipliers\u001b[0m\u001b[0;34m,\u001b[0m\u001b[0msupport_vectors\u001b[0m\u001b[0;34m,\u001b[0m\u001b[0msupport_vector_labels\u001b[0m\u001b[0;34m,\u001b[0m\u001b[0mintercept\u001b[0m\u001b[0;34m=\u001b[0m\u001b[0mfit\u001b[0m\u001b[0;34m(\u001b[0m\u001b[0mtrainset\u001b[0m\u001b[0;34m,\u001b[0m\u001b[0my\u001b[0m\u001b[0;34m)\u001b[0m\u001b[0;34m\u001b[0m\u001b[0;34m\u001b[0m\u001b[0m\n\u001b[0m\u001b[1;32m     70\u001b[0m         \u001b[0my_pred\u001b[0m\u001b[0;34m=\u001b[0m\u001b[0mnp\u001b[0m\u001b[0;34m.\u001b[0m\u001b[0mempty\u001b[0m\u001b[0;34m(\u001b[0m\u001b[0mtestset\u001b[0m\u001b[0;34m.\u001b[0m\u001b[0mshape\u001b[0m\u001b[0;34m[\u001b[0m\u001b[0;36m0\u001b[0m\u001b[0;34m]\u001b[0m\u001b[0;34m,\u001b[0m\u001b[0mdtype\u001b[0m\u001b[0;34m=\u001b[0m\u001b[0mfloat\u001b[0m\u001b[0;34m)\u001b[0m\u001b[0;34m\u001b[0m\u001b[0;34m\u001b[0m\u001b[0m\n\u001b[1;32m     71\u001b[0m         \u001b[0;32mfor\u001b[0m \u001b[0midx\u001b[0m\u001b[0;34m,\u001b[0m\u001b[0mX\u001b[0m \u001b[0;32min\u001b[0m \u001b[0menumerate\u001b[0m\u001b[0;34m(\u001b[0m\u001b[0mtestset\u001b[0m\u001b[0;34m)\u001b[0m\u001b[0;34m:\u001b[0m\u001b[0;34m\u001b[0m\u001b[0;34m\u001b[0m\u001b[0m\n",
      "\u001b[0;32m<ipython-input-7-073251fae4c8>\u001b[0m in \u001b[0;36mfit\u001b[0;34m(X, y)\u001b[0m\n\u001b[1;32m     51\u001b[0m \u001b[0;34m\u001b[0m\u001b[0m\n\u001b[1;32m     52\u001b[0m             \u001b[0mprint\u001b[0m\u001b[0;34m(\u001b[0m\u001b[0;34m\"begin cvxopt\"\u001b[0m\u001b[0;34m)\u001b[0m\u001b[0;34m\u001b[0m\u001b[0;34m\u001b[0m\u001b[0m\n\u001b[0;32m---> 53\u001b[0;31m             \u001b[0mminimization\u001b[0m \u001b[0;34m=\u001b[0m \u001b[0mcvxopt\u001b[0m\u001b[0;34m.\u001b[0m\u001b[0msolvers\u001b[0m\u001b[0;34m.\u001b[0m\u001b[0mqp\u001b[0m\u001b[0;34m(\u001b[0m\u001b[0mP\u001b[0m\u001b[0;34m,\u001b[0m \u001b[0mq\u001b[0m\u001b[0;34m,\u001b[0m \u001b[0mG\u001b[0m\u001b[0;34m,\u001b[0m \u001b[0mh\u001b[0m\u001b[0;34m,\u001b[0m \u001b[0mA\u001b[0m\u001b[0;34m,\u001b[0m \u001b[0mb\u001b[0m\u001b[0;34m)\u001b[0m\u001b[0;34m\u001b[0m\u001b[0;34m\u001b[0m\u001b[0m\n\u001b[0m\u001b[1;32m     54\u001b[0m             \u001b[0mprint\u001b[0m\u001b[0;34m(\u001b[0m\u001b[0;34m\"end cvxopt\"\u001b[0m\u001b[0;34m)\u001b[0m\u001b[0;34m\u001b[0m\u001b[0;34m\u001b[0m\u001b[0m\n\u001b[1;32m     55\u001b[0m \u001b[0;34m\u001b[0m\u001b[0m\n",
      "\u001b[0;32m~/.local/lib/python3.7/site-packages/cvxopt/coneprog.py\u001b[0m in \u001b[0;36mqp\u001b[0;34m(P, q, G, h, A, b, solver, kktsolver, initvals, **kwargs)\u001b[0m\n\u001b[1;32m   4483\u001b[0m             'residual as dual infeasibility certificate': dinfres}\n\u001b[1;32m   4484\u001b[0m \u001b[0;34m\u001b[0m\u001b[0m\n\u001b[0;32m-> 4485\u001b[0;31m     \u001b[0;32mreturn\u001b[0m \u001b[0mconeqp\u001b[0m\u001b[0;34m(\u001b[0m\u001b[0mP\u001b[0m\u001b[0;34m,\u001b[0m \u001b[0mq\u001b[0m\u001b[0;34m,\u001b[0m \u001b[0mG\u001b[0m\u001b[0;34m,\u001b[0m \u001b[0mh\u001b[0m\u001b[0;34m,\u001b[0m \u001b[0;32mNone\u001b[0m\u001b[0;34m,\u001b[0m \u001b[0mA\u001b[0m\u001b[0;34m,\u001b[0m  \u001b[0mb\u001b[0m\u001b[0;34m,\u001b[0m \u001b[0minitvals\u001b[0m\u001b[0;34m,\u001b[0m \u001b[0mkktsolver\u001b[0m \u001b[0;34m=\u001b[0m \u001b[0mkktsolver\u001b[0m\u001b[0;34m,\u001b[0m \u001b[0moptions\u001b[0m \u001b[0;34m=\u001b[0m \u001b[0moptions\u001b[0m\u001b[0;34m)\u001b[0m\u001b[0;34m\u001b[0m\u001b[0;34m\u001b[0m\u001b[0m\n\u001b[0m",
      "\u001b[0;32m~/.local/lib/python3.7/site-packages/cvxopt/coneprog.py\u001b[0m in \u001b[0;36mconeqp\u001b[0;34m(P, q, G, h, dims, A, b, initvals, kktsolver, xnewcopy, xdot, xaxpy, xscal, ynewcopy, ydot, yaxpy, yscal, **kwargs)\u001b[0m\n\u001b[1;32m   2254\u001b[0m         \u001b[0;31m# On exit, they contain ux, uy, uz.\u001b[0m\u001b[0;34m\u001b[0m\u001b[0;34m\u001b[0m\u001b[0;34m\u001b[0m\u001b[0m\n\u001b[1;32m   2255\u001b[0m \u001b[0;34m\u001b[0m\u001b[0m\n\u001b[0;32m-> 2256\u001b[0;31m         \u001b[0;32mtry\u001b[0m\u001b[0;34m:\u001b[0m \u001b[0mf3\u001b[0m \u001b[0;34m=\u001b[0m \u001b[0mkktsolver\u001b[0m\u001b[0;34m(\u001b[0m\u001b[0mW\u001b[0m\u001b[0;34m)\u001b[0m\u001b[0;34m\u001b[0m\u001b[0;34m\u001b[0m\u001b[0m\n\u001b[0m\u001b[1;32m   2257\u001b[0m         \u001b[0;32mexcept\u001b[0m \u001b[0mArithmeticError\u001b[0m\u001b[0;34m:\u001b[0m\u001b[0;34m\u001b[0m\u001b[0;34m\u001b[0m\u001b[0m\n\u001b[1;32m   2258\u001b[0m             \u001b[0;32mif\u001b[0m \u001b[0miters\u001b[0m \u001b[0;34m==\u001b[0m \u001b[0;36m0\u001b[0m\u001b[0;34m:\u001b[0m\u001b[0;34m\u001b[0m\u001b[0;34m\u001b[0m\u001b[0m\n",
      "\u001b[0;32m~/.local/lib/python3.7/site-packages/cvxopt/coneprog.py\u001b[0m in \u001b[0;36mkktsolver\u001b[0;34m(W)\u001b[0m\n\u001b[1;32m   1979\u001b[0m              \u001b[0mfactor\u001b[0m \u001b[0;34m=\u001b[0m \u001b[0mmisc\u001b[0m\u001b[0;34m.\u001b[0m\u001b[0mkkt_chol2\u001b[0m\u001b[0;34m(\u001b[0m\u001b[0mG\u001b[0m\u001b[0;34m,\u001b[0m \u001b[0mdims\u001b[0m\u001b[0;34m,\u001b[0m \u001b[0mA\u001b[0m\u001b[0;34m)\u001b[0m\u001b[0;34m\u001b[0m\u001b[0;34m\u001b[0m\u001b[0m\n\u001b[1;32m   1980\u001b[0m          \u001b[0;32mdef\u001b[0m \u001b[0mkktsolver\u001b[0m\u001b[0;34m(\u001b[0m\u001b[0mW\u001b[0m\u001b[0;34m)\u001b[0m\u001b[0;34m:\u001b[0m\u001b[0;34m\u001b[0m\u001b[0;34m\u001b[0m\u001b[0m\n\u001b[0;32m-> 1981\u001b[0;31m              \u001b[0;32mreturn\u001b[0m \u001b[0mfactor\u001b[0m\u001b[0;34m(\u001b[0m\u001b[0mW\u001b[0m\u001b[0;34m,\u001b[0m \u001b[0mP\u001b[0m\u001b[0;34m)\u001b[0m\u001b[0;34m\u001b[0m\u001b[0;34m\u001b[0m\u001b[0m\n\u001b[0m\u001b[1;32m   1982\u001b[0m \u001b[0;34m\u001b[0m\u001b[0m\n\u001b[1;32m   1983\u001b[0m     \u001b[0;32mif\u001b[0m \u001b[0mxnewcopy\u001b[0m \u001b[0;32mis\u001b[0m \u001b[0;32mNone\u001b[0m\u001b[0;34m:\u001b[0m \u001b[0mxnewcopy\u001b[0m \u001b[0;34m=\u001b[0m \u001b[0mmatrix\u001b[0m\u001b[0;34m\u001b[0m\u001b[0;34m\u001b[0m\u001b[0m\n",
      "\u001b[0;32m~/.local/lib/python3.7/site-packages/cvxopt/misc.py\u001b[0m in \u001b[0;36mfactor\u001b[0;34m(W, H, Df)\u001b[0m\n\u001b[1;32m   1449\u001b[0m \u001b[0;34m\u001b[0m\u001b[0m\n\u001b[1;32m   1450\u001b[0m         \u001b[0;32melse\u001b[0m\u001b[0;34m:\u001b[0m\u001b[0;34m\u001b[0m\u001b[0;34m\u001b[0m\u001b[0m\n\u001b[0;32m-> 1451\u001b[0;31m             \u001b[0mbase\u001b[0m\u001b[0;34m.\u001b[0m\u001b[0msyrk\u001b[0m\u001b[0;34m(\u001b[0m\u001b[0mF\u001b[0m\u001b[0;34m[\u001b[0m\u001b[0;34m'Gs'\u001b[0m\u001b[0;34m]\u001b[0m\u001b[0;34m,\u001b[0m \u001b[0mF\u001b[0m\u001b[0;34m[\u001b[0m\u001b[0;34m'S'\u001b[0m\u001b[0;34m]\u001b[0m\u001b[0;34m,\u001b[0m \u001b[0mtrans\u001b[0m \u001b[0;34m=\u001b[0m \u001b[0;34m'T'\u001b[0m\u001b[0;34m,\u001b[0m \u001b[0mpartial\u001b[0m \u001b[0;34m=\u001b[0m \u001b[0;32mTrue\u001b[0m\u001b[0;34m)\u001b[0m\u001b[0;34m\u001b[0m\u001b[0;34m\u001b[0m\u001b[0m\n\u001b[0m\u001b[1;32m   1452\u001b[0m             if mnl: base.syrk(F['Dfs'], F['S'], trans = 'T', beta = 1.0, \n\u001b[1;32m   1453\u001b[0m                 partial = True)\n",
      "\u001b[0;31mKeyboardInterrupt\u001b[0m: "
     ]
    }
   ],
   "source": [
    "sigma,C=0.3,2\n",
    "ypred,Accuracy,Macro_F1,Micro_F1=multiClassSVM(trainset,trainlabel,testset,testlabel,sigma,C)"
   ]
  },
  {
   "cell_type": "code",
   "execution_count": null,
   "metadata": {},
   "outputs": [],
   "source": [
    "print(Accuracy,Macro_F1,Micro_F1)"
   ]
  },
  {
   "cell_type": "code",
   "execution_count": 17,
   "metadata": {},
   "outputs": [
    {
     "data": {
      "text/plain": [
       "0.05555555555555555"
      ]
     },
     "execution_count": 17,
     "metadata": {},
     "output_type": "execute_result"
    }
   ],
   "source": []
  },
  {
   "cell_type": "code",
   "execution_count": null,
   "metadata": {},
   "outputs": [],
   "source": []
  },
  {
   "cell_type": "code",
   "execution_count": null,
   "metadata": {},
   "outputs": [],
   "source": []
  },
  {
   "cell_type": "markdown",
   "metadata": {},
   "source": [
    "# Part II"
   ]
  },
  {
   "cell_type": "markdown",
   "metadata": {},
   "source": [
    "## data preprocessing"
   ]
  },
  {
   "cell_type": "code",
   "execution_count": 144,
   "metadata": {
    "scrolled": true
   },
   "outputs": [],
   "source": [
    "data_y_temp=np.loadtxt(\"datasets/Frog/Frogs_MFCCs.csv\",delimiter=\",\",skiprows=1,usecols=22,dtype=str)\n",
    "category_dict={}\n",
    "for i,s in enumerate(np.unique(data_y_temp)):\n",
    "    category_dict[s]=i\n",
    "data=np.loadtxt(\"datasets/Frog/Frogs_MFCCs.csv\",delimiter=\",\",skiprows=1,usecols=tuple(_ for _ in range(23)),converters={22:lambda s:category_dict[str(s,encoding=\"utf-8\")]})\n",
    "np.save(\"datasets/Frog/data.npy\",data)"
   ]
  },
  {
   "cell_type": "markdown",
   "metadata": {},
   "source": [
    "## utils"
   ]
  },
  {
   "cell_type": "code",
   "execution_count": 2,
   "metadata": {},
   "outputs": [],
   "source": [
    "def cluster_evaluation(label,C):#label:true  C:predict\n",
    "    true_C=[set(np.where(label.astype(int)==i)[0]) for i in np.unique(label.astype(int))]\n",
    "    test_C=[set(np.where(C==i)[0]) for i in np.unique(C)]\n",
    "    purity=sum([max([len(true.intersection(test)) for true in true_C]) for test in test_C])/C.shape[0]\n",
    "    \n",
    "    # C_eq: True Label\n",
    "    # K_eq: Predict Label\n",
    "    C_eq=(label.reshape(label.shape[0],1)==label.reshape(-1,label.shape[0]))\n",
    "    K_eq=(C.reshape(C.shape[0],1)==C.reshape(-1,C.shape[0]))\n",
    "    a=((np.logical_and(C_eq,K_eq)).sum()-K_eq.shape[0])//2\n",
    "    b=np.sum(np.logical_and(C_eq,np.logical_not(K_eq)))//2\n",
    "    c=np.sum(np.logical_and(np.logical_not(C_eq),K_eq))//2\n",
    "    d=np.sum(np.logical_and(np.logical_not(C_eq),np.logical_not(K_eq)))//2\n",
    "    RI=(a+d)/(a+b+c+d)\n",
    "    return purity,RI"
   ]
  },
  {
   "cell_type": "code",
   "execution_count": 3,
   "metadata": {},
   "outputs": [],
   "source": [
    "def cluster_save(C,file,k):\n",
    "    np.savetxt(file,(C+1).astype(int),fmt=\"%d\",delimiter='\\n',header=str(k))"
   ]
  },
  {
   "cell_type": "markdown",
   "metadata": {},
   "source": [
    "## common procedure"
   ]
  },
  {
   "cell_type": "code",
   "execution_count": 4,
   "metadata": {},
   "outputs": [],
   "source": [
    "data=np.load(\"datasets/Frog/data.npy\")\n",
    "np.random.shuffle(data)"
   ]
  },
  {
   "cell_type": "markdown",
   "metadata": {},
   "source": [
    "## K-means"
   ]
  },
  {
   "cell_type": "code",
   "execution_count": 5,
   "metadata": {},
   "outputs": [],
   "source": [
    "def KMeans(K,data,maxIters,root_dir):\n",
    "    X=data[:,:-1]\n",
    "    label=data[:,-1]\n",
    "    centroids = X[np.random.choice(np.arange(len(X)), K)]\n",
    "    for i in range(maxIters):\n",
    "        #if i%100==0:\n",
    "        #    print(\"Iter: \",i)\n",
    "        # Cluster Assignment step\n",
    "        C = np.array([np.argmin([np.dot(x_i-y_k, x_i-y_k) for y_k in centroids]) for x_i in X])\n",
    "        # Ensure we have K clusters, otherwise reset centroids and start over\n",
    "        # If there are fewer than K clusters, outcome will be nan.\n",
    "        if (len(np.unique(C)) < K):\n",
    "            print(\"Reset\")\n",
    "            centroids = X[np.random.choice(np.arange(len(X)), K)]\n",
    "        else:\n",
    "            # Move centroids step \n",
    "            centroids = [X[C == k].mean(axis = 0) for k in range(K)]\n",
    "    \n",
    "    purity,RI=cluster_evaluation(label,C)#label:true  C:predict\n",
    "    \n",
    "    cluster_save(C,root_dir+\"KMeans\"+\"-\"+str(K)+\".csv\",K)\n",
    "    return purity,RI    "
   ]
  },
  {
   "cell_type": "code",
   "execution_count": 237,
   "metadata": {},
   "outputs": [],
   "source": [
    "root_dir=\"datasets/Frog/result/\"\n",
    "purity,RI=KMeans(4,data,100,root_dir)"
   ]
  },
  {
   "cell_type": "code",
   "execution_count": 239,
   "metadata": {},
   "outputs": [
    {
     "name": "stdout",
     "output_type": "stream",
     "text": [
      "K=2,purity=0.7665045170257123,RI=0.7001602949566303\n",
      "K=3,purity=0.7713690062543433,RI=0.7357551646679545\n",
      "K=4,purity=0.7691452397498263,RI=0.6420101455096451\n",
      "K=5,purity=0.7563585823488533,RI=0.5638403016334939\n",
      "K=6,purity=0.7644197359277276,RI=0.5905586521699904\n",
      "K=7,purity=0.8610145934676859,RI=0.620146160716511\n",
      "K=8,purity=0.78318276580959,RI=0.5929136375904328\n",
      "K=9,purity=0.8387769284225156,RI=0.6156845630180197\n",
      "K=10,purity=0.8754690757470466,RI=0.6086936009333699\n",
      "K=11,purity=0.8717164697706741,RI=0.5968032970105001\n",
      "K=12,purity=0.8326615705350938,RI=0.580245216315117\n"
     ]
    }
   ],
   "source": [
    "root_dir=\"datasets/Frog/result/\"\n",
    "purity=[]\n",
    "RI=[]\n",
    "maxIters=300\n",
    "root_dir=\"datasets/Frog/result/\"\n",
    "K_range=[_ for _ in range(2,13)]\n",
    "for K in K_range:\n",
    "    p,r=KMeans(K,data,maxIters,root_dir)\n",
    "    purity.append(p)\n",
    "    RI.append(r)\n",
    "    print(\"K={},purity={},RI={}\".format(K,p,r))"
   ]
  },
  {
   "cell_type": "code",
   "execution_count": 241,
   "metadata": {},
   "outputs": [
    {
     "data": {
      "image/png": "[encoded data removed]",
      "text/plain": [
       "<Figure size 432x288 with 1 Axes>"
      ]
     },
     "metadata": {
      "needs_background": "light"
     },
     "output_type": "display_data"
    }
   ],
   "source": [
    "plt.figure(1)\n",
    "plt.plot(K_range,purity,label=\"purity\",color=\"g\")\n",
    "plt.plot(K_range,RI,label=\"RI\",color=\"r\")\n",
    "plt.title(\"K-Means purity and RI\")\n",
    "plt.grid(True)\n",
    "plt.ylabel(\"Ratio\")\n",
    "plt.xlabel(\"K\")\n",
    "plt.legend()\n",
    "plt.savefig(\"graph/PartII/KMeans/K_purity_RI.png\",dpi=1000)\n",
    "plt.show()"
   ]
  },
  {
   "cell_type": "markdown",
   "metadata": {},
   "source": [
    "## PCA"
   ]
  },
  {
   "cell_type": "code",
   "execution_count": 123,
   "metadata": {},
   "outputs": [],
   "source": [
    "def PCA(data,threshold,N=None):\n",
    "    X=data[:,:-1]\n",
    "    X=X-X.mean(axis=0)\n",
    "    covariance=(1/X.shape[0])*X.T.dot(X)\n",
    "    eigenvalues, eigenvectors = np.linalg.eig(covariance)\n",
    "    idx=eigenvalues.argsort()[::-1]\n",
    "    first_m=1\n",
    "    while True:\n",
    "        if eigenvalues[idx[:first_m]].sum()/eigenvalues.sum()>=threshold:\n",
    "            break\n",
    "        first_m+=1\n",
    "    if N!=None:\n",
    "        first_m=N\n",
    "    PC=eigenvectors[:,idx[:first_m]]\n",
    "    data_PCA=np.empty((data.shape[0],first_m+1))\n",
    "    data_PCA[:,-1]=data[:,-1]\n",
    "    data_PCA[:,:-1]=data[:,:-1].dot(PC)\n",
    "    return data_PCA"
   ]
  },
  {
   "cell_type": "code",
   "execution_count": 124,
   "metadata": {},
   "outputs": [],
   "source": [
    "threshold=0.8\n",
    "data_PCA=PCA(data,threshold)"
   ]
  },
  {
   "cell_type": "code",
   "execution_count": 125,
   "metadata": {},
   "outputs": [
    {
     "name": "stdout",
     "output_type": "stream",
     "text": [
      "K=2,purity=0.765948575399583,RI=0.6995681869861824\n",
      "K=3,purity=0.7713690062543433,RI=0.7357741751822758\n",
      "K=4,purity=0.7624739402362752,RI=0.6168629057918894\n",
      "K=5,purity=0.763724808895066,RI=0.5894776416838756\n",
      "K=6,purity=0.8038915913829048,RI=0.6024981438667039\n",
      "K=7,purity=0.8599027102154274,RI=0.6207749759808721\n",
      "K=8,purity=0.8258512856150104,RI=0.5798653537820008\n",
      "K=9,purity=0.8813064628214038,RI=0.6741000096018553\n",
      "K=10,purity=0.8596247394023627,RI=0.5876250052404492\n",
      "K=11,purity=0.8696316886726894,RI=0.5900924308980362\n",
      "K=12,purity=0.8644892286309938,RI=0.585876501593966\n"
     ]
    }
   ],
   "source": [
    "root_dir=\"datasets/Frog/result/PCA-\"\n",
    "purity_PCA=[]\n",
    "RI_PCA=[]\n",
    "maxIters=300\n",
    "K_range=[_ for _ in range(2,13)]\n",
    "for K in K_range:\n",
    "    p,r=KMeans(K,data_PCA,maxIters,root_dir)\n",
    "    purity_PCA.append(p)\n",
    "    RI_PCA.append(r)\n",
    "    print(\"K={},purity={},RI={}\".format(K,p,r))"
   ]
  },
  {
   "cell_type": "code",
   "execution_count": 126,
   "metadata": {},
   "outputs": [
    {
     "data": {
      "image/png": "[encoded data removed]",
      "text/plain": [
       "<Figure size 432x288 with 1 Axes>"
      ]
     },
     "metadata": {
      "needs_background": "light"
     },
     "output_type": "display_data"
    }
   ],
   "source": [
    "plt.figure(1)\n",
    "plt.plot(K_range,purity_PCA,label=\"purity\",color=\"g\")\n",
    "plt.plot(K_range,RI_PCA,label=\"RI\",color=\"r\")\n",
    "plt.title(\"K-Means purity and RI\")\n",
    "plt.grid(True)\n",
    "plt.ylabel(\"Ratio\")\n",
    "plt.xlabel(\"K\")\n",
    "plt.legend()\n",
    "plt.savefig(\"graph/PartII/PCA/K_purity_RI.png\",dpi=1000)\n",
    "plt.show()"
   ]
  },
  {
   "cell_type": "code",
   "execution_count": 308,
   "metadata": {},
   "outputs": [],
   "source": [
    "data2d=PCA(data,threshold,2)"
   ]
  },
  {
   "cell_type": "code",
   "execution_count": 317,
   "metadata": {},
   "outputs": [
    {
     "data": {
      "image/png": "[encoded data removed]",
      "text/plain": [
       "<Figure size 432x288 with 1 Axes>"
      ]
     },
     "metadata": {
      "needs_background": "light"
     },
     "output_type": "display_data"
    }
   ],
   "source": [
    "plt.figure(1)\n",
    "plt.scatter(data2d[:,0],data2d[:,1],c=data2d[:,-1],s=1)\n",
    "plt.title(\"PCA reduced data point\")\n",
    "plt.grid(True)\n",
    "plt.xlabel(\"x\")\n",
    "plt.ylabel(\"y\")\n",
    "plt.savefig(\"graph/PartII/PCA/data_point.png\",dpi=1000)\n",
    "plt.show()"
   ]
  },
  {
   "cell_type": "markdown",
   "metadata": {},
   "source": [
    "## Hierarchical Clustering"
   ]
  },
  {
   "cell_type": "code",
   "execution_count": 136,
   "metadata": {},
   "outputs": [],
   "source": [
    "def HC(data,n_clusters,n_clusters_max,root_dir):\n",
    "    Xy=data.copy()\n",
    "    Xy[:,-1]=np.arange(Xy.shape[0]) # init\n",
    "    features=Xy.shape[1]-1\n",
    "    k=Xy.shape[0]# current clusters\n",
    "    Xy[:,:-1]=(Xy[:,:-1]-Xy[:,:-1].mean(axis=0))/Xy[:,:-1].std(axis=0)\n",
    "    purity=[]\n",
    "    RI=[]\n",
    "    K_range=[]\n",
    "    while k>n_clusters:\n",
    "        X=np.empty((k,features))\n",
    "        for i in range(k):\n",
    "            X[i]=Xy[Xy[:,-1]==i,:-1].mean(axis=0)\n",
    "        distance=np.linalg.norm(X.reshape((k,1,features))-X.reshape((1,k,features)),axis=2)\n",
    "        for i in range(k):\n",
    "            distance[i,i]=np.inf\n",
    "        min_pos=distance.argmin()\n",
    "        Xy[Xy[:,-1]==min_pos%k,-1]=min_pos//k\n",
    "        Xy[Xy[:,-1]>min_pos%k,-1]-=1\n",
    "        k-=1\n",
    "        \n",
    "        if k<=n_clusters_max:\n",
    "            C=Xy[:,-1]\n",
    "            label=data[:,-1]\n",
    "            p,r=cluster_evaluation(label,C)#label:true  C:predict\n",
    "            K_range.append(k)\n",
    "            purity.append(p)\n",
    "            RI.append(r)\n",
    "            #cluster_save(C,root_dir+\"HC\"+\"-\"+str(k)+\".csv\",k)\n",
    "    return K_range,purity,RI "
   ]
  },
  {
   "cell_type": "code",
   "execution_count": 139,
   "metadata": {},
   "outputs": [],
   "source": [
    "root_dir=\"datasets/Frog/result/HC/\"\n",
    "n_clusters=2\n",
    "n_clusters_max=100\n",
    "K_range,purity_HC,RI_HC=HC(data[:1000],n_clusters,n_clusters_max,root_dir)"
   ]
  },
  {
   "cell_type": "code",
   "execution_count": 141,
   "metadata": {},
   "outputs": [
    {
     "data": {
      "image/png": "[encoded data removed]",
      "text/plain": [
       "<Figure size 432x288 with 1 Axes>"
      ]
     },
     "metadata": {
      "needs_background": "light"
     },
     "output_type": "display_data"
    }
   ],
   "source": [
    "plt.figure(1)\n",
    "plt.plot(K_range,purity_HC,label=\"purity\",color=\"g\")\n",
    "plt.plot(K_range,RI_HC,label=\"RI\",color=\"r\")\n",
    "plt.title(\"Hierarchical Clustering purity and RI\")\n",
    "plt.grid(True)\n",
    "plt.ylabel(\"Ratio\")\n",
    "plt.xlabel(\"K\")\n",
    "plt.legend()\n",
    "plt.savefig(\"graph/PartII/HC/K_purity_RI_\"+str(max(K_range))+\".png\",dpi=1000)\n",
    "plt.show()"
   ]
  },
  {
   "cell_type": "code",
   "execution_count": null,
   "metadata": {},
   "outputs": [],
   "source": []
  }
 ],
 "metadata": {
  "kernelspec": {
   "display_name": "Python 3",
   "language": "python",
   "name": "python3"
  },
  "language_info": {
   "codemirror_mode": {
    "name": "ipython",
    "version": 3
   },
   "file_extension": ".py",
   "mimetype": "text/x-python",
   "name": "python",
   "nbconvert_exporter": "python",
   "pygments_lexer": "ipython3",
   "version": "3.7.3"
  }
 },
 "nbformat": 4,
 "nbformat_minor": 2
}
