{
 "cells": [
  {
   "cell_type": "code",
   "execution_count": 159,
   "metadata": {},
   "outputs": [],
   "source": [
    "import numpy as np\n",
    "import matplotlib.pyplot as plt\n",
    "from collections import Counter\n",
    "%matplotlib inline"
   ]
  },
  {
   "cell_type": "markdown",
   "metadata": {},
   "source": [
    "# Part I"
   ]
  },
  {
   "cell_type": "markdown",
   "metadata": {},
   "source": [
    "## data preprocessing"
   ]
  },
  {
   "cell_type": "code",
   "execution_count": 145,
   "metadata": {},
   "outputs": [],
   "source": [
    "\n",
    "category=['zero','one','two','three','four','five','six','seven','eight','nine','ten','eleven','twelve','thirteen','fourteen','fifteen','sixteen','draw']\n",
    "category_dict={} # \n",
    "for i,s in enumerate(category):\n",
    "    category_dict[s]=i\n",
    "\n",
    "char=['a','b','c','d','e','f','g','h']\n",
    "char_dict={}\n",
    "for i,s in enumerate(char,start=1):\n",
    "    char_dict[s]=i\n",
    "\n",
    "data_temp=[]\n",
    "with open(\"datasets/Chess/trainset.csv\") as f:\n",
    "    count=0\n",
    "    for line in f:\n",
    "        count+=1\n",
    "        if count!=1:\n",
    "            line=line.strip().split(',')\n",
    "            data_temp.append([char_dict[line[0]],int(line[1]),char_dict[line[2]],int(line[3]),char_dict[line[4]],int(line[5]),category_dict[line[6]]])\n",
    "train_data=np.array(data_temp)\n",
    "\n",
    "data_temp=[]\n",
    "with open(\"datasets/Chess/testset.csv\") as f:\n",
    "    count=0\n",
    "    for line in f:\n",
    "        count+=1\n",
    "        if count!=1:\n",
    "            line=line.strip().split(',')\n",
    "            data_temp.append([char_dict[line[0]],int(line[1]),char_dict[line[2]],int(line[3]),char_dict[line[4]],int(line[5]),category_dict[line[6]]])\n",
    "test_data=np.array(data_temp)\n",
    "\n",
    "np.save(\"datasets/Chess/train_data.npy\",train_data)\n",
    "np.save(\"datasets/Chess/test_data.npy\",test_data)"
   ]
  },
  {
   "cell_type": "markdown",
   "metadata": {},
   "source": [
    "## kNN"
   ]
  },
  {
   "cell_type": "code",
   "execution_count": 149,
   "metadata": {},
   "outputs": [],
   "source": [
    "train_data=np.load(\"datasets/Chess/train_data.npy\")\n",
    "test_data=np.load(\"datasets/Chess/test_data.npy\")\n",
    "np.random.shuffle(train_data)"
   ]
  },
  {
   "cell_type": "code",
   "execution_count": 150,
   "metadata": {},
   "outputs": [
    {
     "data": {
      "text/plain": [
       "((22445, 7), (5611, 7))"
      ]
     },
     "execution_count": 150,
     "metadata": {},
     "output_type": "execute_result"
    }
   ],
   "source": [
    "train_data.shape,test_data.shape"
   ]
  },
  {
   "cell_type": "code",
   "execution_count": 168,
   "metadata": {},
   "outputs": [],
   "source": [
    "def predict(X_train,y_train,X_test,k):\n",
    "    y_pred=np.empty(X_test.shape[0],dtype=int)\n",
    "    for i,X in enumerate(X_test):\n",
    "        if i%1000 ==0:\n",
    "            print(i)\n",
    "        y_pred[i]=np.bincount(y_train[np.argsort(np.linalg.norm(X-X_train,axis=1))[:k]]).argmax()\n",
    "    return y_pred"
   ]
  },
  {
   "cell_type": "code",
   "execution_count": 178,
   "metadata": {
    "scrolled": true
   },
   "outputs": [
    {
     "name": "stdout",
     "output_type": "stream",
     "text": [
      "0\n",
      "1000\n",
      "2000\n",
      "3000\n",
      "4000\n",
      "5000\n"
     ]
    }
   ],
   "source": [
    "y_pred=predict(train_data[:,:6],train_data[:,6],test_data[:,:6],11)"
   ]
  },
  {
   "cell_type": "code",
   "execution_count": 179,
   "metadata": {},
   "outputs": [
    {
     "data": {
      "text/plain": [
       "[(True, 4108), (False, 1503)]"
      ]
     },
     "execution_count": 179,
     "metadata": {},
     "output_type": "execute_result"
    }
   ],
   "source": [
    "result=Counter(np.equal(y_pred[:],test_data[:,6])).most_common()\n",
    "result"
   ]
  },
  {
   "cell_type": "code",
   "execution_count": 184,
   "metadata": {},
   "outputs": [],
   "source": [
    "#5-fold cross validation\n",
    "def kNN(trainset,trainlabel,testset,testlabel,k):\n",
    "    pass"
   ]
  },
  {
   "cell_type": "code",
   "execution_count": 180,
   "metadata": {},
   "outputs": [
    {
     "data": {
      "text/plain": [
       "array([0, 1, 2, 3, 4, 5, 6, 7, 8, 9])"
      ]
     },
     "execution_count": 180,
     "metadata": {},
     "output_type": "execute_result"
    }
   ],
   "source": [
    "np.argsort(np.arange(10)) "
   ]
  },
  {
   "cell_type": "code",
   "execution_count": null,
   "metadata": {},
   "outputs": [],
   "source": []
  }
 ],
 "metadata": {
  "kernelspec": {
   "display_name": "Python 3",
   "language": "python",
   "name": "python3"
  },
  "language_info": {
   "codemirror_mode": {
    "name": "ipython",
    "version": 3
   },
   "file_extension": ".py",
   "mimetype": "text/x-python",
   "name": "python",
   "nbconvert_exporter": "python",
   "pygments_lexer": "ipython3",
   "version": "3.7.3"
  }
 },
 "nbformat": 4,
 "nbformat_minor": 2
}
