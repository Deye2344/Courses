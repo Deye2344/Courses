{
 "cells": [
  {
   "cell_type": "code",
   "execution_count": 1,
   "metadata": {},
   "outputs": [],
   "source": [
    "import numpy as np\n",
    "import matplotlib.pyplot as plt\n",
    "from collections import Counter\n",
    "%matplotlib inline"
   ]
  },
  {
   "cell_type": "markdown",
   "metadata": {},
   "source": [
    "# Part I"
   ]
  },
  {
   "cell_type": "markdown",
   "metadata": {},
   "source": [
    "## data preprocessing"
   ]
  },
  {
   "cell_type": "code",
   "execution_count": 2,
   "metadata": {},
   "outputs": [],
   "source": [
    "\n",
    "category=['zero','one','two','three','four','five','six','seven','eight','nine','ten','eleven','twelve','thirteen','fourteen','fifteen','sixteen','draw']\n",
    "category_dict={} # \n",
    "for i,s in enumerate(category):\n",
    "    category_dict[s]=i\n",
    "\n",
    "char=['a','b','c','d','e','f','g','h']\n",
    "char_dict={}\n",
    "for i,s in enumerate(char,start=1):\n",
    "    char_dict[s]=i\n",
    "\n",
    "data_temp=[]\n",
    "with open(\"datasets/Chess/trainset.csv\") as f:\n",
    "    count=0\n",
    "    for line in f:\n",
    "        count+=1\n",
    "        if count!=1:\n",
    "            line=line.strip().split(',')\n",
    "            data_temp.append([char_dict[line[0]],int(line[1]),char_dict[line[2]],int(line[3]),char_dict[line[4]],int(line[5]),category_dict[line[6]]])\n",
    "train_data=np.array(data_temp)\n",
    "\n",
    "data_temp=[]\n",
    "with open(\"datasets/Chess/testset.csv\") as f:\n",
    "    count=0\n",
    "    for line in f:\n",
    "        count+=1\n",
    "        if count!=1:\n",
    "            line=line.strip().split(',')\n",
    "            data_temp.append([char_dict[line[0]],int(line[1]),char_dict[line[2]],int(line[3]),char_dict[line[4]],int(line[5]),category_dict[line[6]]])\n",
    "test_data=np.array(data_temp)\n",
    "\n",
    "np.save(\"datasets/Chess/train_data.npy\",train_data)\n",
    "np.save(\"datasets/Chess/test_data.npy\",test_data)"
   ]
  },
  {
   "cell_type": "markdown",
   "metadata": {},
   "source": [
    "## utils"
   ]
  },
  {
   "cell_type": "code",
   "execution_count": 204,
   "metadata": {},
   "outputs": [],
   "source": [
    "# data independent\n",
    "def classification_evaluation(testset,testlabel,ypred):\n",
    "    Accuracy=(Counter(np.equal(ypred,testlabel))[True])/testlabel.shape[0]\n",
    "    \n",
    "    category=np.unique(testlabel)\n",
    "    evaluation=np.zeros((category.shape[0],4),dtype=int)#4: TP,FP,FN,TN\n",
    "    for c in category:\n",
    "        evaluation[c,0]=np.count_nonzero(np.logical_and((testlabel==c),(ypred==c)))#TP\n",
    "        evaluation[c,1]=np.count_nonzero(np.logical_and((testlabel!=c),(ypred==c)))#FP\n",
    "        evaluation[c,2]=np.count_nonzero(np.logical_and((testlabel==c),(ypred!=c)))#FN\n",
    "        evaluation[c,3]=np.count_nonzero(np.logical_and((testlabel!=c),(ypred!=c)))#TN\n",
    "        \n",
    "    Macro_P=evaluation[:,0]/(evaluation[:,0]+evaluation[:,1])\n",
    "    Macro_R=evaluation[:,0]/(evaluation[:,0]+evaluation[:,2])\n",
    "    Macro_F1=(2*Macro_P*Macro_R/(Macro_P+Macro_R)).mean()\n",
    "    \n",
    "    reduced_evaluation=evaluation.sum(axis=0)\n",
    "    Micro_P=reduced_evaluation[0]/(reduced_evaluation[0]+reduced_evaluation[1])\n",
    "    Micro_R=reduced_evaluation[0]/(reduced_evaluation[0]+reduced_evaluation[2])\n",
    "    Micro_F1=2*Micro_P*Micro_R/(Micro_P+Micro_R)\n",
    "    return ypred,Accuracy,Macro_F1,Micro_F1"
   ]
  },
  {
   "cell_type": "code",
   "execution_count": 409,
   "metadata": {},
   "outputs": [],
   "source": [
    "# data independent\n",
    "# for 5-folf cross validation\n",
    "def split_data_5_fold(train_data):\n",
    "    step=train_data.shape[0]//5\n",
    "    for i in range(5):\n",
    "        begin_test=i*step\n",
    "        end_test=(i+1)*step\n",
    "        trainset=np.vstack((train_data[0:begin_test,:6],train_data[end_test:,:6]))\n",
    "        trainlabel=np.hstack((train_data[0:begin_test,6],train_data[end_test:,6]))\n",
    "        testset=train_data[begin_test:end_test,:6]\n",
    "        testlabel=train_data[begin_test:end_test,6]\n",
    "        yield i,trainset,trainlabel,testset,testlabel"
   ]
  },
  {
   "cell_type": "markdown",
   "metadata": {},
   "source": [
    "## common precedure\n",
    "\n",
    "need to paste to all seperate files"
   ]
  },
  {
   "cell_type": "code",
   "execution_count": 210,
   "metadata": {},
   "outputs": [],
   "source": [
    "train_data=np.load(\"datasets/Chess/train_data.npy\")\n",
    "test_data=np.load(\"datasets/Chess/test_data.npy\")\n",
    "np.random.shuffle(train_data)"
   ]
  },
  {
   "cell_type": "code",
   "execution_count": 211,
   "metadata": {},
   "outputs": [
    {
     "data": {
      "text/plain": [
       "((22445, 7), (5611, 7))"
      ]
     },
     "execution_count": 211,
     "metadata": {},
     "output_type": "execute_result"
    }
   ],
   "source": [
    "train_data.shape,test_data.shape"
   ]
  },
  {
   "cell_type": "markdown",
   "metadata": {},
   "source": [
    "## kNN"
   ]
  },
  {
   "cell_type": "code",
   "execution_count": 159,
   "metadata": {},
   "outputs": [],
   "source": [
    "# retuen ypred,Accuracy,Macro_F1,Micro_F1\n",
    "# No 5-fold cross validation\n",
    "# category: from 0 :int (MUST)\n",
    "def kNN(trainset,trainlabel,testset,testlabel,k):\n",
    "    #predict\n",
    "    ypred=np.empty(testset.shape[0],dtype=testlabel.dtype)\n",
    "    for i,X in enumerate(testset):\n",
    "        ypred[i]=np.bincount(trainlabel[np.argsort(np.linalg.norm(X-trainset,axis=1))[:k]]).argmax()\n",
    "    #evaluation\n",
    "    return classification_evaluation(testset,testlabel,ypred)"
   ]
  },
  {
   "cell_type": "code",
   "execution_count": 408,
   "metadata": {
    "scrolled": true
   },
   "outputs": [
    {
     "name": "stdout",
     "output_type": "stream",
     "text": [
      "k=1,fold=0,Micro_F1=0.537090666072622\n",
      "k=1,fold=1,Micro_F1=0.5317442637558476\n",
      "k=1,fold=2,Micro_F1=0.5453330363109824\n",
      "k=1,fold=3,Micro_F1=0.5290710625974605\n",
      "k=1,fold=4,Micro_F1=0.5266206282022722\n",
      "k=3,fold=0,Micro_F1=0.6150590331922478\n",
      "k=3,fold=1,Micro_F1=0.6036979282691023\n",
      "k=3,fold=2,Micro_F1=0.6065938961906884\n",
      "k=3,fold=3,Micro_F1=0.6028068612163066\n",
      "k=3,fold=4,Micro_F1=0.6019157941635108\n"
     ]
    }
   ],
   "source": [
    "#5-fold cross validation\n",
    "k_parameter=[i for i in range(1,4,2)]\n",
    "Micro_F1_matrix=np.zeros((len(k_parameter),5),dtype=float)\n",
    "step=train_data.shape[0]//5\n",
    "for k_i in range(len(k_parameter)):\n",
    "    k=k_parameter[k_i]\n",
    "    for i,trainset,trainlabel,testset,testlabel in split_data_5_fold(train_data):        \n",
    "        ypred,Accuracy,Macro_F1,Micro_F1=kNN(trainset,trainlabel,testset,testlabel,k)\n",
    "        Micro_F1_matrix[k_i,i]=Micro_F1\n",
    "        print(\"k={},fold={},Micro_F1={}\".format(k,i,Micro_F1))"
   ]
  },
  {
   "cell_type": "code",
   "execution_count": 185,
   "metadata": {
    "scrolled": true
   },
   "outputs": [
    {
     "name": "stdout",
     "output_type": "stream",
     "text": [
      "k=1,fold=0,Micro_F1=0.5431053686789931\n"
     ]
    },
    {
     "name": "stderr",
     "output_type": "stream",
     "text": [
      "/home/drdh/anaconda3/lib/python3.7/site-packages/ipykernel_launcher.py:15: RuntimeWarning: invalid value encountered in true_divide\n",
      "  from ipykernel import kernelapp as app\n"
     ]
    },
    {
     "name": "stdout",
     "output_type": "stream",
     "text": [
      "k=1,fold=1,Micro_F1=0.5297393628870573\n",
      "k=1,fold=2,Micro_F1=0.5206059255959011\n",
      "k=1,fold=3,Micro_F1=0.5290710625974605\n",
      "k=1,fold=4,Micro_F1=0.5424370683893963\n",
      "k=3,fold=0,Micro_F1=0.6179550011138338\n",
      "k=3,fold=1,Micro_F1=0.601470260637113\n",
      "k=3,fold=2,Micro_F1=0.5985742927155269\n",
      "k=3,fold=3,Micro_F1=0.5965693918467365\n",
      "k=3,fold=4,Micro_F1=0.6110492314546669\n",
      "k=5,fold=0,Micro_F1=0.7210960124749387\n",
      "k=5,fold=1,Micro_F1=0.7311205168188907\n",
      "k=5,fold=2,Micro_F1=0.7086210737357987\n",
      "k=5,fold=3,Micro_F1=0.7112942748941858\n",
      "k=5,fold=4,Micro_F1=0.7222098462909334\n",
      "k=7,fold=0,Micro_F1=0.7288928491869014\n",
      "k=7,fold=1,Micro_F1=0.7259968812653153\n",
      "k=7,fold=2,Micro_F1=0.7148585431053688\n",
      "k=7,fold=3,Micro_F1=0.7141902428157718\n",
      "k=7,fold=4,Micro_F1=0.736466919135665\n",
      "k=9,fold=0,Micro_F1=0.7014925373134329\n",
      "k=9,fold=1,Micro_F1=0.7017153040766317\n",
      "k=9,fold=2,Micro_F1=0.6894631321006905\n",
      "k=9,fold=3,Micro_F1=0.6907997326798841\n",
      "k=9,fold=4,Micro_F1=0.7068389396302072\n",
      "k=11,fold=0,Micro_F1=0.6792158609935398\n",
      "k=11,fold=1,Micro_F1=0.684785030073513\n",
      "k=11,fold=2,Micro_F1=0.6651815549120071\n",
      "k=11,fold=3,Micro_F1=0.6707507239919804\n",
      "k=11,fold=4,Micro_F1=0.6801069280463354\n",
      "k=13,fold=0,Micro_F1=0.6636221875696147\n",
      "k=13,fold=1,Micro_F1=0.6685230563599911\n",
      "k=13,fold=2,Micro_F1=0.6571619514368456\n",
      "k=13,fold=3,Micro_F1=0.6551570505680553\n",
      "k=13,fold=4,Micro_F1=0.6680775228335932\n",
      "k=15,fold=0,Micro_F1=0.6547115170416574\n",
      "k=15,fold=1,Micro_F1=0.6571619514368456\n",
      "k=15,fold=2,Micro_F1=0.6515927823568723\n",
      "k=15,fold=3,Micro_F1=0.652706616172867\n",
      "k=15,fold=4,Micro_F1=0.6553798173312542\n",
      "k=17,fold=0,Micro_F1=0.6458008465137002\n",
      "k=17,fold=1,Micro_F1=0.6553798173312542\n",
      "k=17,fold=2,Micro_F1=0.6446870126977055\n",
      "k=17,fold=3,Micro_F1=0.6446870126977055\n",
      "k=17,fold=4,Micro_F1=0.6520383158832702\n",
      "k=19,fold=0,Micro_F1=0.6364446424593451\n",
      "k=19,fold=1,Micro_F1=0.6435731788817108\n",
      "k=19,fold=2,Micro_F1=0.6442414791713077\n",
      "k=19,fold=3,Micro_F1=0.6393406103809312\n",
      "k=19,fold=4,Micro_F1=0.6388950768545333\n"
     ]
    }
   ],
   "source": [
    "#5-fold cross validation\n",
    "k_parameter=[i for i in range(1,20,2)]\n",
    "Micro_F1_matrix=np.zeros((len(k_parameter),5),dtype=float)\n",
    "step=train_data.shape[0]//5\n",
    "for k_i in range(len(k_parameter)):\n",
    "    k=k_parameter[k_i]\n",
    "    for i in range(5):#5-fold\n",
    "        begin_test=i*step\n",
    "        end_test=(i+1)*step\n",
    "        trainset=np.vstack((train_data[0:begin_test,:6],train_data[end_test:,:6]))\n",
    "        trainlabel=np.hstack((train_data[0:begin_test,6],train_data[end_test:,6]))\n",
    "        testset=train_data[begin_test:end_test,:6]\n",
    "        testlabel=train_data[begin_test:end_test,6]\n",
    "        \n",
    "        ypred,Accuracy,Macro_F1,Micro_F1=kNN(trainset,trainlabel,testset,testlabel,k)\n",
    "        Micro_F1_matrix[k_i,i]=Micro_F1\n",
    "        print(\"k={},fold={},Micro_F1={}\".format(k,i,Micro_F1))"
   ]
  },
  {
   "cell_type": "code",
   "execution_count": 200,
   "metadata": {},
   "outputs": [
    {
     "data": {
      "image/png": "[encoded data removed]",
      "text/plain": [
       "<Figure size 432x288 with 1 Axes>"
      ]
     },
     "metadata": {
      "needs_background": "light"
     },
     "output_type": "display_data"
    }
   ],
   "source": [
    "Micro_F1_mean=Micro_F1_matrix.mean(axis=1)\n",
    "plt.figure(1)\n",
    "plt.scatter(k_parameter,Micro_F1_mean)\n",
    "plt.title(\"kNN: k- average Micro_F1 over 5-fold\")\n",
    "plt.grid(True)\n",
    "plt.ylabel(\"Micro_F1\")\n",
    "plt.xlabel(\"k\")\n",
    "plt.xticks(k_parameter)\n",
    "plt.savefig(\"graph/PartI/kNN/k_Micro_F1.png\",dpi=1000)\n",
    "plt.show()"
   ]
  },
  {
   "cell_type": "code",
   "execution_count": 208,
   "metadata": {
    "scrolled": true
   },
   "outputs": [
    {
     "name": "stdout",
     "output_type": "stream",
     "text": [
      "(1, 0.5329917576297617)\n",
      "(3, 0.6051236355535754)\n",
      "(5, 0.7188683448429494)\n",
      "(7, 0.7240810871018044)\n",
      "(9, 0.6980619291601693)\n",
      "(11, 0.6760080196034751)\n",
      "(13, 0.6625083537536199)\n",
      "(15, 0.6543105368678993)\n",
      "(17, 0.6485186010247271)\n",
      "(19, 0.6404989975495656)\n"
     ]
    }
   ],
   "source": [
    "for i in zip(k_parameter,Micro_F1_mean):\n",
    "    print(i)"
   ]
  },
  {
   "cell_type": "code",
   "execution_count": 203,
   "metadata": {},
   "outputs": [
    {
     "name": "stdout",
     "output_type": "stream",
     "text": [
      "0.7820352878274818 0.7183239169477872 0.7820352878274818\n"
     ]
    }
   ],
   "source": [
    "# test\n",
    "k=k_parameter[Micro_F1_mean.argmax()]\n",
    "ypred,Accuracy,Macro_F1,Micro_F1=kNN(train_data[:,:6],train_data[:,6],test_data[:,:6],test_data[:,6],k)\n",
    "print(Accuracy,Macro_F1,Micro_F1)"
   ]
  },
  {
   "cell_type": "markdown",
   "metadata": {},
   "source": [
    "## decisionTree"
   ]
  },
  {
   "cell_type": "code",
   "execution_count": 397,
   "metadata": {},
   "outputs": [],
   "source": [
    "def createTree(trainset,trainlabel,testset,testlabel):\n",
    "    attribute=[i for i in range(trainset.shape[1])]\n",
    "    attribute_length=len(attribute)\n",
    "    attribute_value=[np.unique(trainset[:,i]) for i in range(6)]\n",
    "    \n",
    "    def chooseBestFeature(trainset,trainlabel,attribute):\n",
    "        def Ent(trainlabel):\n",
    "            category_count=np.bincount(trainlabel)\n",
    "            categoty_probability=category_count[category_count.nonzero()]/trainlabel.shape[0]\n",
    "            return -(categoty_probability*np.log(categoty_probability)/np.log(2)).sum()\n",
    "        \n",
    "        gain=np.full(attribute_length,-np.inf)\n",
    "        Ent_D=Ent(trainlabel)\n",
    "        for a in attribute:\n",
    "            gain[a]=Ent_D\n",
    "            for v in np.unique(trainset[:,a]):\n",
    "                D_v_index=(trainset[:,a]==v)\n",
    "                gain[a]-=D_v_index.sum()/trainset.shape[0]*Ent(trainlabel[D_v_index])\n",
    "        return gain.argmax()\n",
    "        \n",
    "    def treeGenerate(trainset,trainlabel,attribute):\n",
    "        if np.equal(trainlabel,trainlabel[0]).all():#same category\n",
    "            return trainlabel[0]\n",
    "        if len(attribute)==0 or np.equal(trainset,trainset[0]).all():\n",
    "            return np.bincount(trainlabel).argmax()\n",
    "        attr=chooseBestFeature(trainset,trainlabel,attribute)\n",
    "        attribute=attribute.copy()\n",
    "        attribute.remove(attr)\n",
    "        subtree={}\n",
    "        for v in attribute_value[attr]:\n",
    "            D_v_index=(trainset[:,attr]==v)\n",
    "            if D_v_index.sum()==0:\n",
    "                subtree[str(attr)+':'+str(v)]=np.bincount(trainlabel).argmax()\n",
    "            else:\n",
    "                subtree[str(attr)+':'+str(v)]=treeGenerate(trainset[D_v_index],trainlabel[D_v_index],attribute)\n",
    "        return subtree\n",
    "        \n",
    "    def predict(tree,X):\n",
    "        if type(tree)==dict:\n",
    "            attr=int(list(tree.keys())[0][0])\n",
    "            return predict(tree[str(attr)+':'+str(X[attr])],X)\n",
    "        else:\n",
    "            return tree\n",
    "        \n",
    "    tree=treeGenerate(trainset,trainlabel,attribute)\n",
    "    #predict\n",
    "    ypred=np.empty(testset.shape[0],dtype=testlabel.dtype)\n",
    "    for i,X in enumerate(testset):\n",
    "        ypred[i]=predict(tree,X)\n",
    "    #evaluation\n",
    "    return classification_evaluation(testset,testlabel,ypred)"
   ]
  },
  {
   "cell_type": "code",
   "execution_count": 411,
   "metadata": {},
   "outputs": [
    {
     "name": "stdout",
     "output_type": "stream",
     "text": [
      "fold=0,Micro_F1=0.5582535085765203\n",
      "fold=1,Micro_F1=0.5591445756293161\n",
      "fold=2,Micro_F1=0.5642682111828915\n",
      "fold=3,Micro_F1=0.5593673423925151\n",
      "fold=4,Micro_F1=0.5544664736021385\n"
     ]
    }
   ],
   "source": [
    "#5-fold cross validation\n",
    "Micro_F1_matrix=np.zeros((len(k_parameter),5),dtype=float)\n",
    "for i,trainset,trainlabel,testset,testlabel in split_data_5_fold(train_data):        \n",
    "    ypred,Accuracy,Macro_F1,Micro_F1=createTree(trainset,trainlabel,testset,testlabel)\n",
    "    Micro_F1_matrix[k_i,i]=Micro_F1\n",
    "    print(\"fold={},Micro_F1={}\".format(i,Micro_F1))"
   ]
  },
  {
   "cell_type": "code",
   "execution_count": 412,
   "metadata": {},
   "outputs": [
    {
     "name": "stdout",
     "output_type": "stream",
     "text": [
      "0.5963286401710925 0.5495741554985076 0.5963286401710925\n"
     ]
    }
   ],
   "source": [
    "#test\n",
    "ypred,Accuracy,Macro_F1,Micro_F1=createTree(train_data[:,:6],train_data[:,6],test_data[:,:6],test_data[:,6])\n",
    "print(Accuracy,Macro_F1,Micro_F1)"
   ]
  },
  {
   "cell_type": "code",
   "execution_count": 415,
   "metadata": {},
   "outputs": [],
   "source": [
    "# decision tree visualization ==> HOW ?"
   ]
  },
  {
   "cell_type": "markdown",
   "metadata": {},
   "source": [
    "## SVM"
   ]
  },
  {
   "cell_type": "code",
   "execution_count": 416,
   "metadata": {},
   "outputs": [],
   "source": [
    "def multiClassSVM(trainset,trainlabel,testset,testlabel):\n",
    "    def softSVM(trainset,trainlabel,sigma,C):\n",
    "        pass"
   ]
  },
  {
   "cell_type": "code",
   "execution_count": null,
   "metadata": {},
   "outputs": [],
   "source": []
  },
  {
   "cell_type": "code",
   "execution_count": null,
   "metadata": {},
   "outputs": [],
   "source": []
  },
  {
   "cell_type": "code",
   "execution_count": null,
   "metadata": {},
   "outputs": [],
   "source": []
  },
  {
   "cell_type": "code",
   "execution_count": null,
   "metadata": {},
   "outputs": [],
   "source": []
  },
  {
   "cell_type": "code",
   "execution_count": null,
   "metadata": {},
   "outputs": [],
   "source": []
  },
  {
   "cell_type": "code",
   "execution_count": null,
   "metadata": {},
   "outputs": [],
   "source": []
  }
 ],
 "metadata": {
  "kernelspec": {
   "display_name": "Python 3",
   "language": "python",
   "name": "python3"
  },
  "language_info": {
   "codemirror_mode": {
    "name": "ipython",
    "version": 3
   },
   "file_extension": ".py",
   "mimetype": "text/x-python",
   "name": "python",
   "nbconvert_exporter": "python",
   "pygments_lexer": "ipython3",
   "version": "3.7.3"
  }
 },
 "nbformat": 4,
 "nbformat_minor": 2
}
