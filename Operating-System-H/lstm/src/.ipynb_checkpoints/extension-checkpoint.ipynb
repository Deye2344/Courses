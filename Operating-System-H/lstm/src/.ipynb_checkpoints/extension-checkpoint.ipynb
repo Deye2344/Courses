{
 "cells": [
  {
   "cell_type": "code",
   "execution_count": 89,
   "metadata": {},
   "outputs": [],
   "source": [
    "from keras.layers import Dense,Activation\n",
    "from keras.layers.recurrent import SimpleRNN\n",
    "from keras.models import Sequential\n",
    "from keras.utils import plot_model\n",
    "import numpy as np\n",
    "import matplotlib.pyplot as plt\n",
    "from keras.models import load_model"
   ]
  },
  {
   "cell_type": "code",
   "execution_count": 10,
   "metadata": {},
   "outputs": [],
   "source": [
    "extension=np.load(\"../data/generate_data/extension\")"
   ]
  },
  {
   "cell_type": "code",
   "execution_count": 12,
   "metadata": {},
   "outputs": [],
   "source": [
    "SEQLEN=10\n",
    "STEP=1\n",
    "\n",
    "input_extension=[]\n",
    "label_extension=[]\n",
    "for i in range(0,len(extension)-SEQLEN,STEP):\n",
    "    input_extension.append(extension[i:i+SEQLEN])\n",
    "    label_extension.append(extension[i+SEQLEN])"
   ]
  },
  {
   "cell_type": "code",
   "execution_count": 15,
   "metadata": {},
   "outputs": [],
   "source": [
    "EXTENSION_TYPE=20\n",
    "X=np.zeros((len(input_extension),SEQLEN,EXTENSION_TYPE),dtype=np.bool)\n",
    "y=np.zeros((len(input_extension),EXTENSION_TYPE),dtype=np.bool)\n",
    "for i,input_ex in enumerate(input_extension):\n",
    "    for j,ex in enumerate(input_ex):\n",
    "        X[i,j,ex]=1\n",
    "    y[i,label_extension[i]]=1"
   ]
  },
  {
   "cell_type": "code",
   "execution_count": 105,
   "metadata": {},
   "outputs": [],
   "source": [
    "HIDDEN_SIZE=32\n",
    "BATCH_SIZE=32\n",
    "NUM_ITERATION=25\n",
    "NUM_EPOCHS_PER_ITERATION=1\n",
    "NUM_PREDS_PER_EPOCHS=10\n",
    "\n",
    "model=Sequential()\n",
    "model.add(SimpleRNN(HIDDEN_SIZE,return_sequences=False,input_shape=(SEQLEN,EXTENSION_TYPE),unroll=True))\n",
    "model.add(Dense(EXTENSION_TYPE))\n",
    "model.add(Activation(\"softmax\"))\n",
    "\n",
    "model.compile(loss=\"categorical_crossentropy\",optimizer=\"rmsprop\",metrics=['acc'])"
   ]
  },
  {
   "cell_type": "code",
   "execution_count": 111,
   "metadata": {},
   "outputs": [
    {
     "name": "stdout",
     "output_type": "stream",
     "text": [
      "_________________________________________________________________\n",
      "Layer (type)                 Output Shape              Param #   \n",
      "=================================================================\n",
      "simple_rnn_5 (SimpleRNN)     (None, 32)                1696      \n",
      "_________________________________________________________________\n",
      "dense_5 (Dense)              (None, 20)                660       \n",
      "_________________________________________________________________\n",
      "activation_5 (Activation)    (None, 20)                0         \n",
      "=================================================================\n",
      "Total params: 2,356\n",
      "Trainable params: 2,356\n",
      "Non-trainable params: 0\n",
      "_________________________________________________________________\n"
     ]
    }
   ],
   "source": [
    "plot_model(model,to_file=\"../img/extension_SimpleRNN_model.png\",show_shapes=True)\n",
    "model.summary()"
   ]
  },
  {
   "cell_type": "code",
   "execution_count": 107,
   "metadata": {},
   "outputs": [
    {
     "name": "stdout",
     "output_type": "stream",
     "text": [
      "Train on 1773 samples, validate on 5 samples\n",
      "Epoch 1/5\n",
      "1773/1773 [==============================] - 1s 673us/step - loss: 1.4932 - acc: 0.7744 - val_loss: 0.7300 - val_acc: 1.0000\n",
      "Epoch 2/5\n",
      "1773/1773 [==============================] - 0s 113us/step - loss: 0.4425 - acc: 0.9831 - val_loss: 0.2732 - val_acc: 1.0000\n",
      "Epoch 3/5\n",
      "1773/1773 [==============================] - 0s 135us/step - loss: 0.2106 - acc: 0.9825 - val_loss: 0.1054 - val_acc: 1.0000\n",
      "Epoch 4/5\n",
      "1773/1773 [==============================] - 0s 131us/step - loss: 0.1291 - acc: 0.9836 - val_loss: 0.0491 - val_acc: 1.0000\n",
      "Epoch 5/5\n",
      "1773/1773 [==============================] - 0s 135us/step - loss: 0.0919 - acc: 0.9848 - val_loss: 0.0262 - val_acc: 1.0000\n"
     ]
    }
   ],
   "source": [
    "X_val=np.zeros((5,SEQLEN,EXTENSION_TYPE))\n",
    "y_val=np.zeros((5,EXTENSION_TYPE))\n",
    "for i in range(5):\n",
    "    for j in range(SEQLEN):\n",
    "        X_val[i,j,i]=1\n",
    "    y_val[i,i]=1\n",
    "\n",
    "history=model.fit(X,y,batch_size=BATCH_SIZE,epochs=5,validation_data=(X_val,y_val))"
   ]
  },
  {
   "cell_type": "code",
   "execution_count": 108,
   "metadata": {},
   "outputs": [
    {
     "data": {
      "image/png": "[encoded data removed]",
      "text/plain": [
       "<Figure size 432x288 with 1 Axes>"
      ]
     },
     "metadata": {},
     "output_type": "display_data"
    }
   ],
   "source": [
    "acc=history.history['acc']\n",
    "val_acc=history.history['val_acc']\n",
    "loss=history.history['loss']\n",
    "val_loss=history.history['val_loss']\n",
    "\n",
    "epochs=range(1,len(acc)+1)\n",
    "\n",
    "plt.plot(epochs,acc,'b',label=\"Training acc\")\n",
    "plt.plot(epochs,val_acc,'g',label=\"Validation acc\")\n",
    "plt.plot(epochs,loss,'r',label=\"Training loss\")\n",
    "plt.plot(epochs,val_loss,'y',label=\"validation loss\")\n",
    "\n",
    "plt.legend()\n",
    "#plt.figure()\n",
    "plt.savefig(\"../img/extension_SimpleRNN.png\")\n",
    "#plt.show()"
   ]
  },
  {
   "cell_type": "code",
   "execution_count": 109,
   "metadata": {},
   "outputs": [],
   "source": [
    "model.save(\"../model/extension_SimpleRNN.h5\")\n",
    "model_r=load_model(\"../model/extension_SimpleRNN.h5\")"
   ]
  },
  {
   "cell_type": "code",
   "execution_count": 110,
   "metadata": {},
   "outputs": [
    {
     "data": {
      "text/plain": [
       "[0, 1, 2, 3, 4]"
      ]
     },
     "execution_count": 110,
     "metadata": {},
     "output_type": "execute_result"
    }
   ],
   "source": [
    "X_test=np.zeros((5,1,SEQLEN,EXTENSION_TYPE))\n",
    "for i in range(5):\n",
    "    for j in range(SEQLEN):\n",
    "        X_test[i,0,j,i]=1\n",
    "\n",
    "ypred=[]\n",
    "for i in range(5):\n",
    "    pred=model_r.predict(X_test[i],verbose=0)[0]\n",
    "    ypred.append(np.argmax(pred))\n",
    "ypred"
   ]
  },
  {
   "cell_type": "code",
   "execution_count": 88,
   "metadata": {},
   "outputs": [
    {
     "name": "stdout",
     "output_type": "stream",
     "text": [
      "Help on method save in module keras.engine.topology:\n",
      "\n",
      "save(filepath, overwrite=True, include_optimizer=True) method of keras.models.Sequential instance\n",
      "    Saves the model to a single HDF5 file.\n",
      "    \n",
      "    The savefile includes:\n",
      "        - The model architecture, allowing to re-instantiate the model.\n",
      "        - The model weights.\n",
      "        - The state of the optimizer, allowing to resume training\n",
      "            exactly where you left off.\n",
      "    \n",
      "    This allows you to save the entirety of the state of a model\n",
      "    in a single file.\n",
      "    \n",
      "    Saved models can be reinstantiated via `keras.models.load_model`.\n",
      "    The model returned by `load_model`\n",
      "    is a compiled model ready to be used (unless the saved model\n",
      "    was never compiled in the first place).\n",
      "    \n",
      "    # Arguments\n",
      "        filepath: String, path to the file to save the weights to.\n",
      "        overwrite: Whether to silently overwrite any existing file at the\n",
      "            target location, or provide the user with a manual prompt.\n",
      "        include_optimizer: If True, save optimizer's state together.\n",
      "    \n",
      "    # Example\n",
      "    \n",
      "    ```python\n",
      "    from keras.models import load_model\n",
      "    \n",
      "    model.save('my_model.h5')  # creates a HDF5 file 'my_model.h5'\n",
      "    del model  # deletes the existing model\n",
      "    \n",
      "    # returns a compiled model\n",
      "    # identical to the previous one\n",
      "    model = load_model('my_model.h5')\n",
      "    ```\n",
      "\n"
     ]
    }
   ],
   "source": [
    "help(model.save)"
   ]
  },
  {
   "cell_type": "code",
   "execution_count": null,
   "metadata": {},
   "outputs": [],
   "source": []
  }
 ],
 "metadata": {
  "kernelspec": {
   "display_name": "Python 3",
   "language": "python",
   "name": "python3"
  },
  "language_info": {
   "codemirror_mode": {
    "name": "ipython",
    "version": 3
   },
   "file_extension": ".py",
   "mimetype": "text/x-python",
   "name": "python",
   "nbconvert_exporter": "python",
   "pygments_lexer": "ipython3",
   "version": "3.5.4rc1"
  }
 },
 "nbformat": 4,
 "nbformat_minor": 2
}
