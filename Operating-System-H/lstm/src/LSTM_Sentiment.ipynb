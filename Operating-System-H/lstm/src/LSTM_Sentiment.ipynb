{
 "cells": [
  {
   "cell_type": "code",
   "execution_count": 1,
   "metadata": {},
   "outputs": [
    {
     "name": "stderr",
     "output_type": "stream",
     "text": [
      "/home/drdh/.local/lib/python3.5/site-packages/h5py/__init__.py:36: FutureWarning: Conversion of the second argument of issubdtype from `float` to `np.floating` is deprecated. In future, it will be treated as `np.float64 == np.dtype(float).type`.\n",
      "  from ._conv import register_converters as _register_converters\n",
      "Using TensorFlow backend.\n"
     ]
    }
   ],
   "source": [
    "from keras.layers.core import Activation,Dense,Dropout,SpatialDropout1D\n",
    "from keras.layers.embeddings import Embedding\n",
    "from keras.layers.recurrent import LSTM\n",
    "from keras.models import Sequential\n",
    "from keras.preprocessing import sequence\n",
    "from sklearn.model_selection import train_test_split\n",
    "import collections\n",
    "import matplotlib.pyplot as plt\n",
    "import nltk\n",
    "import numpy as np\n",
    "import os\n",
    "from keras.utils import plot_model"
   ]
  },
  {
   "cell_type": "code",
   "execution_count": 2,
   "metadata": {},
   "outputs": [],
   "source": [
    "maxlen=0\n",
    "word_freqs=collections.Counter()\n",
    "num_recs=0\n",
    "ftrain=open(os.path.join(\"../data\",\"umich-sentiment-test.txt\"),'rb')\n",
    "for line in ftrain:\n",
    "    label,sentence =line.strip().split(b'\\t')\n",
    "    words=nltk.word_tokenize(sentence.decode(\"ascii\",\"ignore\").lower())\n",
    "    if(len(words)>maxlen):\n",
    "        maxlen=len(words)\n",
    "    for word in words:\n",
    "        word_freqs[word]+=1\n",
    "    num_recs+=1\n",
    "ftrain.close()"
   ]
  },
  {
   "cell_type": "code",
   "execution_count": 76,
   "metadata": {},
   "outputs": [],
   "source": [
    "MAX_FEATURES=2000\n",
    "MAX_SENTENCE_LENGTH=40"
   ]
  },
  {
   "cell_type": "code",
   "execution_count": 77,
   "metadata": {},
   "outputs": [],
   "source": [
    "vocab_size=min(MAX_FEATURES,len(word_freqs))+2\n",
    "word2index={x[0]:i+2 for i,x in enumerate(word_freqs.most_common(MAX_FEATURES))}\n",
    "word2index[\"PAD\"]=0\n",
    "word2index[\"UNK\"]=1\n",
    "index2word={v:k for k,v in word2index.items()}"
   ]
  },
  {
   "cell_type": "code",
   "execution_count": 92,
   "metadata": {},
   "outputs": [],
   "source": [
    "X=np.empty((num_recs,),dtype=list)\n",
    "y=np.zeros((num_recs,))\n",
    "i=0\n",
    "ftrain=open(os.path.join(\"../data\",\"umich-sentiment-test.txt\"),'rb')\n",
    "for line in ftrain:\n",
    "    label,sentence =line.strip().split(b'\\t')\n",
    "    words=nltk.word_tokenize(sentence.decode(\"ascii\",\"ignore\").lower())\n",
    "    seqs=[]\n",
    "    for word in words:\n",
    "        if word in word2index:\n",
    "            seqs.append(word2index[word])\n",
    "        else:\n",
    "            seqs.append(word2index[\"UNK\"])\n",
    "    X[i]=seqs\n",
    "    y[i]=int(label)\n",
    "    i+=1\n",
    "ftrain.close()\n",
    "X=sequence.pad_sequences(X,maxlen=MAX_SENTENCE_LENGTH)"
   ]
  },
  {
   "cell_type": "code",
   "execution_count": 93,
   "metadata": {},
   "outputs": [],
   "source": [
    "Xtrain,Xtest,ytrain,ytest=train_test_split(X,y,test_size=0.2,random_state=42)"
   ]
  },
  {
   "cell_type": "code",
   "execution_count": 94,
   "metadata": {},
   "outputs": [],
   "source": [
    "EMBEDDING_SIZE=128\n",
    "HIDDEN_LAYER_SIZE=64\n",
    "BATCH_SIZE=32\n",
    "NUM_EPOCHS=10\n",
    "\n",
    "model=Sequential()\n",
    "model.add(Embedding(vocab_size,EMBEDDING_SIZE,input_length=MAX_SENTENCE_LENGTH))\n",
    "model.add(SpatialDropout1D(0.2))\n",
    "model.add(LSTM(HIDDEN_LAYER_SIZE,dropout=0.2,recurrent_dropout=0.3))\n",
    "model.add(Dense(1))\n",
    "model.add(Activation(\"sigmoid\"))\n",
    "\n",
    "model.compile(loss=\"binary_crossentropy\",optimizer=\"adam\",metrics=[\"accuracy\"])"
   ]
  },
  {
   "cell_type": "code",
   "execution_count": 99,
   "metadata": {},
   "outputs": [],
   "source": [
    "plot_model(model,to_file=\"LSTM_Sentiment.png\",show_shapes=True)"
   ]
  },
  {
   "cell_type": "code",
   "execution_count": 96,
   "metadata": {
    "scrolled": true
   },
   "outputs": [
    {
     "name": "stdout",
     "output_type": "stream",
     "text": [
      "Train on 5668 samples, validate on 1418 samples\n",
      "Epoch 1/10\n",
      "5668/5668 [==============================] - 12s 2ms/step - loss: 0.2474 - acc: 0.8904 - val_loss: 0.0657 - val_acc: 0.9781\n",
      "Epoch 2/10\n",
      "5668/5668 [==============================] - 11s 2ms/step - loss: 0.0294 - acc: 0.9899 - val_loss: 0.0509 - val_acc: 0.9774\n",
      "Epoch 3/10\n",
      "5668/5668 [==============================] - 10s 2ms/step - loss: 0.0107 - acc: 0.9975 - val_loss: 0.0396 - val_acc: 0.9873\n",
      "Epoch 4/10\n",
      "5668/5668 [==============================] - 11s 2ms/step - loss: 0.0075 - acc: 0.9977 - val_loss: 0.0521 - val_acc: 0.9838\n",
      "Epoch 5/10\n",
      "5668/5668 [==============================] - 11s 2ms/step - loss: 0.0044 - acc: 0.9981 - val_loss: 0.0478 - val_acc: 0.9887\n",
      "Epoch 6/10\n",
      "5668/5668 [==============================] - 11s 2ms/step - loss: 0.0055 - acc: 0.9988 - val_loss: 0.0758 - val_acc: 0.9795\n",
      "Epoch 7/10\n",
      "5668/5668 [==============================] - 11s 2ms/step - loss: 0.0013 - acc: 0.9996 - val_loss: 0.0550 - val_acc: 0.9887\n",
      "Epoch 8/10\n",
      "5668/5668 [==============================] - 11s 2ms/step - loss: 5.8718e-04 - acc: 0.9998 - val_loss: 0.0559 - val_acc: 0.9901\n",
      "Epoch 9/10\n",
      "5668/5668 [==============================] - 11s 2ms/step - loss: 0.0025 - acc: 0.9996 - val_loss: 0.0526 - val_acc: 0.9866\n",
      "Epoch 10/10\n",
      "5668/5668 [==============================] - 11s 2ms/step - loss: 0.0024 - acc: 0.9995 - val_loss: 0.0525 - val_acc: 0.9845\n"
     ]
    }
   ],
   "source": [
    "history=model.fit(Xtrain,ytrain,batch_size=BATCH_SIZE,epochs=NUM_EPOCHS,validation_data=(Xtest,ytest))"
   ]
  },
  {
   "cell_type": "code",
   "execution_count": 103,
   "metadata": {},
   "outputs": [
    {
     "data": {
      "image/png": "[encoded data removed]",
      "text/plain": [
       "<Figure size 432x288 with 2 Axes>"
      ]
     },
     "metadata": {},
     "output_type": "display_data"
    }
   ],
   "source": [
    "plt.subplot(211)\n",
    "plt.title(\"Accuracy\")\n",
    "plt.plot(history.history[\"acc\"],color=\"g\",label=\"Train\")\n",
    "plt.plot(history.history[\"val_acc\"],color=\"b\",label=\"Validation\")\n",
    "plt.legend(loc=\"best\")\n",
    "\n",
    "plt.subplot(212)\n",
    "plt.title(\"Loss\")\n",
    "plt.plot(history.history[\"loss\"],color=\"g\",label=\"Train\")\n",
    "plt.plot(history.history[\"val_loss\"],color=\"b\",label=\"Validation\")\n",
    "plt.legend(loc=\"best\")\n",
    "\n",
    "plt.tight_layout()\n",
    "plt.savefig(\"LSTM_Sentiment_plot.png\")"
   ]
  },
  {
   "cell_type": "code",
   "execution_count": 108,
   "metadata": {},
   "outputs": [
    {
     "name": "stdout",
     "output_type": "stream",
     "text": [
      "1418/1418 [==============================] - 0s 294us/step\n",
      "Test score : 0.053, Accuracy : 0.984\n",
      "0 0 is it just me , or does harry potter suck ? ...\n",
      "1 1 i love being a sentry for mission impossible and a station for bonkers .\n",
      "0 0 da vinci code = up , up , down , down , left , right , left , right , b , a , suck !\n",
      "1 1 i love harry potter .\n",
      "1 1 he 's like , 'yeah i got acne and i love brokeback mountain '..\n"
     ]
    }
   ],
   "source": [
    "score,acc=model.evaluate(Xtest,ytest,batch_size=BATCH_SIZE)\n",
    "print(\"Test score : %.3f, Accuracy : %.3f\"%(score,acc))\n",
    "\n",
    "for i in range(5):\n",
    "    idx=np.random.randint(len(Xtest))\n",
    "    xtest=Xtest[idx].reshape(1,40)\n",
    "    ylabel=ytest[idx]\n",
    "    ypred=model.predict(xtest)[0][0]\n",
    "    sent=\" \".join([index2word[x] for x in xtest[0].tolist() if x!=0])\n",
    "    print(\"%.0f %d %s\"%(ypred,ylabel,sent))"
   ]
  },
  {
   "cell_type": "code",
   "execution_count": null,
   "metadata": {},
   "outputs": [],
   "source": []
  },
  {
   "cell_type": "code",
   "execution_count": 131,
   "metadata": {},
   "outputs": [
    {
     "data": {
      "text/plain": [
       "0.00049869367"
      ]
     },
     "execution_count": 131,
     "metadata": {},
     "output_type": "execute_result"
    }
   ],
   "source": []
  },
  {
   "cell_type": "code",
   "execution_count": null,
   "metadata": {},
   "outputs": [],
   "source": []
  }
 ],
 "metadata": {
  "kernelspec": {
   "display_name": "Python 3",
   "language": "python",
   "name": "python3"
  },
  "language_info": {
   "codemirror_mode": {
    "name": "ipython",
    "version": 3
   },
   "file_extension": ".py",
   "mimetype": "text/x-python",
   "name": "python",
   "nbconvert_exporter": "python",
   "pygments_lexer": "ipython3",
   "version": "3.5.4rc1"
  }
 },
 "nbformat": 4,
 "nbformat_minor": 2
}
