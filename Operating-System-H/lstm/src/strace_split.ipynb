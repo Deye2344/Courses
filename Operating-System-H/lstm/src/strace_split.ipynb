{
 "cells": [
  {
   "cell_type": "code",
   "execution_count": 53,
   "metadata": {},
   "outputs": [],
   "source": [
    "f1=open(\"../data/temp_out\",\"r\")"
   ]
  },
  {
   "cell_type": "code",
   "execution_count": 54,
   "metadata": {},
   "outputs": [],
   "source": [
    "a=f1.readlines()"
   ]
  },
  {
   "cell_type": "code",
   "execution_count": 37,
   "metadata": {},
   "outputs": [
    {
     "data": {
      "text/plain": [
       "'1773  09:55:40 open(\"/lib/x86_64-linux-gnu/libm.so.6\", O_RDONLY|O_CLOEXEC) = 3\\n'"
      ]
     },
     "execution_count": 37,
     "metadata": {},
     "output_type": "execute_result"
    }
   ],
   "source": [
    "a[1]"
   ]
  },
  {
   "cell_type": "code",
   "execution_count": 38,
   "metadata": {
    "scrolled": true
   },
   "outputs": [
    {
     "data": {
      "text/plain": [
       "['1773',\n",
       " '',\n",
       " '09:55:40',\n",
       " 'open(\"/lib/x86_64-linux-gnu/libm.so.6\", O_RDONLY|O_CLOEXEC) = 3\\n']"
      ]
     },
     "execution_count": 38,
     "metadata": {},
     "output_type": "execute_result"
    }
   ],
   "source": [
    "a[1].split(\" \",3)"
   ]
  },
  {
   "cell_type": "code",
   "execution_count": 39,
   "metadata": {},
   "outputs": [
    {
     "data": {
      "text/plain": [
       "'open(\"/lib/x86_64-linux-gnu/libm.so.6\", O_RDONLY|O_CLOEXEC) = 3\\n'"
      ]
     },
     "execution_count": 39,
     "metadata": {},
     "output_type": "execute_result"
    }
   ],
   "source": [
    "a[1].split(\" \",3)[3]"
   ]
  },
  {
   "cell_type": "code",
   "execution_count": 40,
   "metadata": {},
   "outputs": [
    {
     "data": {
      "text/plain": [
       "['open(\"/lib/x86_64-linux-gnu/libm.so.6\"', ' O_RDONLY|O_CLOEXEC) = 3\\n']"
      ]
     },
     "execution_count": 40,
     "metadata": {},
     "output_type": "execute_result"
    }
   ],
   "source": [
    "a[1].split(\" \",3)[3].split(\",\")"
   ]
  },
  {
   "cell_type": "code",
   "execution_count": 41,
   "metadata": {},
   "outputs": [
    {
     "data": {
      "text/plain": [
       "'open(\"/lib/x86_64-linux-gnu/libm.so.6\"'"
      ]
     },
     "execution_count": 41,
     "metadata": {},
     "output_type": "execute_result"
    }
   ],
   "source": [
    "a[1].split(\" \",3)[3].split(\",\")[0]"
   ]
  },
  {
   "cell_type": "code",
   "execution_count": 42,
   "metadata": {},
   "outputs": [
    {
     "data": {
      "text/plain": [
       "['open', '\"/lib/x86_64-linux-gnu/libm.so.6\"']"
      ]
     },
     "execution_count": 42,
     "metadata": {},
     "output_type": "execute_result"
    }
   ],
   "source": [
    "a[1].split(\" \",3)[3].split(\",\")[0].split(\"(\")"
   ]
  },
  {
   "cell_type": "code",
   "execution_count": 58,
   "metadata": {},
   "outputs": [
    {
     "data": {
      "text/plain": [
       "'\"/usr/lib/x86_64-linux-gnu/libisl.so.15\"'"
      ]
     },
     "execution_count": 58,
     "metadata": {},
     "output_type": "execute_result"
    }
   ],
   "source": [
    "a[9].split(\" \",3)[3].split(\",\")[0].split(\"(\")[1]"
   ]
  },
  {
   "cell_type": "code",
   "execution_count": 64,
   "metadata": {},
   "outputs": [
    {
     "data": {
      "text/plain": [
       "'/lib/x86_64-linux-gnu/libz.so.1'"
      ]
     },
     "execution_count": 64,
     "metadata": {},
     "output_type": "execute_result"
    }
   ],
   "source": [
    "a[1].split(\" \",3)[3].split(\",\")[0].split(\"(\")[1][1:-1]"
   ]
  },
  {
   "cell_type": "code",
   "execution_count": 71,
   "metadata": {},
   "outputs": [
    {
     "data": {
      "text/plain": [
       "['', 'tmp', 'ccPIqjJ4.le']"
      ]
     },
     "execution_count": 71,
     "metadata": {},
     "output_type": "execute_result"
    }
   ],
   "source": [
    "a[171].split(\" \",3)[3].split(\",\")[0].split(\"(\")[1][1:-1].split(\"/\")"
   ]
  },
  {
   "cell_type": "code",
   "execution_count": 72,
   "metadata": {},
   "outputs": [
    {
     "data": {
      "text/plain": [
       "['tmp', 'ccPIqjJ4.le']"
      ]
     },
     "execution_count": 72,
     "metadata": {},
     "output_type": "execute_result"
    }
   ],
   "source": [
    "a[171].split(\" \",3)[3].split(\",\")[0].split(\"(\")[1][1:-1].split(\"/\")[1:]"
   ]
  },
  {
   "cell_type": "code",
   "execution_count": 127,
   "metadata": {},
   "outputs": [
    {
     "name": "stdout",
     "output_type": "stream",
     "text": [
      "90 list index out of range\n",
      "91 list index out of range\n",
      "105 list index out of range\n",
      "106 list index out of range\n",
      "166 list index out of range\n",
      "167 list index out of range\n",
      "172 list index out of range\n",
      "173 list index out of range\n",
      "174 list index out of range\n"
     ]
    }
   ],
   "source": [
    "f1=open(\"../data/temp_out\",\"r\")\n",
    "a=f1.readlines()\n",
    "b=[]\n",
    "c=[]\n",
    "for i in range(len(a)):\n",
    "    try:\n",
    "        b.append(a[i].split(\" \",3)[2].split(\",\")[0].split(\"(\")[1][1:-1].split(\"/\")[1:])\n",
    "        c.append(a[i].split(\" \",3)[2].split(\",\")[0].split(\"(\")[1][1:-1])\n",
    "    except Exception as e:\n",
    "        print(i,e)"
   ]
  },
  {
   "cell_type": "code",
   "execution_count": 137,
   "metadata": {},
   "outputs": [
    {
     "name": "stdout",
     "output_type": "stream",
     "text": [
      "22 list index out of range\n",
      "128 list index out of range\n",
      "138 list index out of range\n",
      "155 list index out of range\n"
     ]
    }
   ],
   "source": [
    "d=[]\n",
    "for i in range(len(b)): \n",
    "    try:\n",
    "        d.append(b[i][0])\n",
    "    except Exception as e:\n",
    "        print(i,e)"
   ]
  },
  {
   "cell_type": "code",
   "execution_count": 140,
   "metadata": {},
   "outputs": [
    {
     "data": {
      "text/plain": [
       "(5, 162)"
      ]
     },
     "execution_count": 140,
     "metadata": {},
     "output_type": "execute_result"
    }
   ],
   "source": [
    "e=set(d)\n",
    "len(e),len(d)"
   ]
  },
  {
   "cell_type": "code",
   "execution_count": null,
   "metadata": {},
   "outputs": [],
   "source": []
  }
 ],
 "metadata": {
  "kernelspec": {
   "display_name": "Python 3",
   "language": "python",
   "name": "python3"
  },
  "language_info": {
   "codemirror_mode": {
    "name": "ipython",
    "version": 3
   },
   "file_extension": ".py",
   "mimetype": "text/x-python",
   "name": "python",
   "nbconvert_exporter": "python",
   "pygments_lexer": "ipython3",
   "version": "3.5.4rc1"
  }
 },
 "nbformat": 4,
 "nbformat_minor": 2
}
