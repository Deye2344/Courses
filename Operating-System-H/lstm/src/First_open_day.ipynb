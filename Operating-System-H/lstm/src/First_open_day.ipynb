{
 "cells": [
  {
   "cell_type": "code",
   "execution_count": 2,
   "metadata": {},
   "outputs": [],
   "source": []
  },
  {
   "cell_type": "code",
   "execution_count": 6,
   "metadata": {},
   "outputs": [],
   "source": []
  },
  {
   "cell_type": "code",
   "execution_count": 28,
   "metadata": {},
   "outputs": [
    {
     "name": "stdout",
     "output_type": "stream",
     "text": [
      "xldate:38720.0\n",
      "2286 4\n"
     ]
    }
   ],
   "source": [
    "print(table.cell(1,0))\n",
    "type(table.cell(1,0).value)\n",
    "print(table.nrows,table.ncols)"
   ]
  },
  {
   "cell_type": "code",
   "execution_count": 44,
   "metadata": {},
   "outputs": [
    {
     "data": {
      "text/plain": [
       "(2006, 1)"
      ]
     },
     "execution_count": 44,
     "metadata": {},
     "output_type": "execute_result"
    }
   ],
   "source": [
    "md=xlrd.xldate_as_tuple(table.cell(1,0).value, 0)[0:2]\n",
    "md"
   ]
  },
  {
   "cell_type": "code",
   "execution_count": 24,
   "metadata": {},
   "outputs": [
    {
     "data": {
      "text/plain": [
       "True"
      ]
     },
     "execution_count": 24,
     "metadata": {},
     "output_type": "execute_result"
    }
   ],
   "source": [
    "a=(2006,1)\n",
    "b=(2006,1)\n",
    "a==b"
   ]
  },
  {
   "cell_type": "code",
   "execution_count": 50,
   "metadata": {},
   "outputs": [],
   "source": [
    "import xlrd\n",
    "import xlwt\n",
    "\n",
    "data=xlrd.open_workbook(\"../data/GSPC.xls\")\n",
    "table=data.sheets()[0]\n",
    "\n",
    "wt_book=xlwt.Workbook()\n",
    "wt=wt_book.add_sheet('first_open_day')\n",
    "\n",
    "old=xlrd.xldate_as_tuple(table.cell(1,0).value, 0)[0:2]\n",
    "wt.write(0,0,table.cell(1,0).value)\n",
    "wt.write(0,1,table.cell(1,1).value)\n",
    "wt.write(0,2,table.cell(1,2).value)\n",
    "wt.write(0,3,table.cell(1,3).value)\n",
    "\n",
    "rd_r=2\n",
    "wt_r=1\n",
    "for rd_r in range(2,table.nrows):\n",
    "    new=xlrd.xldate_as_tuple(table.cell(rd_r,0).value, 0)[0:2]\n",
    "    if new != old :\n",
    "        wt.write(wt_r,0,table.cell(rd_r,0).value)\n",
    "        wt.write(wt_r,1,table.cell(rd_r,1).value)\n",
    "        wt.write(wt_r,2,table.cell(rd_r,2).value)\n",
    "        wt.write(wt_r,3,table.cell(rd_r,3).value)\n",
    "        wt_r+=1\n",
    "    old=new\n",
    "\n",
    "wt_book.save('../data/first_open_day.xls')"
   ]
  },
  {
   "cell_type": "code",
   "execution_count": 56,
   "metadata": {},
   "outputs": [],
   "source": [
    "import xlrd\n",
    "import xlwt\n",
    "\n",
    "data=xlrd.open_workbook(\"../data/000001.SS.xls\")\n",
    "table=data.sheets()[0]\n",
    "\n",
    "wt_book=xlwt.Workbook()\n",
    "wt=wt_book.add_sheet('last_day')\n",
    "\n",
    "old=xlrd.xldate_as_tuple(table.cell(1,1).value, 0)[0:2]\n",
    "\n",
    "rd_r=2\n",
    "wt_r=0\n",
    "for rd_r in range(2,table.nrows):\n",
    "    new=xlrd.xldate_as_tuple(table.cell(rd_r,1).value, 0)[0:2]\n",
    "    if new != old :\n",
    "        wt.write(wt_r,1,table.cell(rd_r-1,1).value)\n",
    "        wt.write(wt_r,2,table.cell(rd_r-1,2).value)\n",
    "        wt.write(wt_r,3,table.cell(rd_r-1,3).value)\n",
    "        wt_r+=1\n",
    "        old=new\n",
    "\n",
    "wt.write(wt_r,1,table.cell(rd_r,1).value)\n",
    "wt.write(wt_r,2,table.cell(rd_r,2).value)\n",
    "wt.write(wt_r,3,table.cell(rd_r,3).value)\n",
    "        \n",
    "wt_book.save('../data/last_day.xls')"
   ]
  },
  {
   "cell_type": "code",
   "execution_count": null,
   "metadata": {},
   "outputs": [],
   "source": []
  }
 ],
 "metadata": {
  "kernelspec": {
   "display_name": "Python 3",
   "language": "python",
   "name": "python3"
  },
  "language_info": {
   "codemirror_mode": {
    "name": "ipython",
    "version": 3
   },
   "file_extension": ".py",
   "mimetype": "text/x-python",
   "name": "python",
   "nbconvert_exporter": "python",
   "pygments_lexer": "ipython3",
   "version": "3.5.4rc1"
  }
 },
 "nbformat": 4,
 "nbformat_minor": 2
}
