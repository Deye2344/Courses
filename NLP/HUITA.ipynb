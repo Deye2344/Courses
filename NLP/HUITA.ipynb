{
 "cells": [
  {
   "cell_type": "code",
   "execution_count": 57,
   "metadata": {},
   "outputs": [],
   "source": [
    "#http://jmcauley.ucsd.edu/data/amazon/\n",
    "FILE_PATH=\"./dataset/reviews_Toys_and_Games_5.json\"\n",
    "import json\n",
    "\n",
    "def parse(path):\n",
    "    f=open(path,'r')\n",
    "    for l in f:\n",
    "        yield json.loads(l)\n",
    "        \n",
    "data=[]\n",
    "count=0\n",
    "for line in parse(FILE_PATH):\n",
    "    di=dict()\n",
    "    di['user']=line['reviewerID']\n",
    "    di['item']=line['asin']\n",
    "    di['rating']=line['overall']\n",
    "    di['review']=line['reviewText']\n",
    "    data.append(di)\n",
    "    count+=1\n",
    "    if count>5000:\n",
    "        break"
   ]
  },
  {
   "cell_type": "code",
   "execution_count": 58,
   "metadata": {},
   "outputs": [],
   "source": [
    "import torch\n",
    "import torch.autograd as autograd\n",
    "import torch.nn as nn\n",
    "import torch.nn.functional as F\n",
    "import torch.optim as optim"
   ]
  },
  {
   "cell_type": "code",
   "execution_count": 109,
   "metadata": {},
   "outputs": [],
   "source": [
    "vocabulary={}\n",
    "count=0\n",
    "max_length=0\n",
    "text=\"\"\n",
    "for d in data:\n",
    "    if(len(d['review'].split())>max_length):\n",
    "        max_length=len(d['review'])\n",
    "        text=d['review']\n",
    "    for word in d['review'].split():\n",
    "        if word not in vocabulary.keys():\n",
    "            vocabulary[word]=count\n",
    "            count+=1\n",
    "            "
   ]
  },
  {
   "cell_type": "code",
   "execution_count": 130,
   "metadata": {},
   "outputs": [],
   "source": [
    "#固定参数\n",
    "WORD_PER_SENT=20 #每句话的词个数\n",
    "SENT_PER_REVIEW=10 #每篇review的句子个数\n",
    "REVIEW_PER_OBJECT=15 #每个user/item的review个数\n",
    "WORD_EMBEDDING_DIM=300 #每个Word表示的维度\n",
    "VOCAB_SIZE=len(vocabulary) #总的词语种类\n",
    "WORD_LEVEL_CNN_FILTER=200 #CNN word level\n",
    "WORD_LEVEL_CNN_WIN_SIZE=3\n",
    "SENT_LEVEL_CNN_FILTER=100 #CNN sentence level\n",
    "SENT_LEVEL_CNN_WIN_SIZE=3"
   ]
  },
  {
   "cell_type": "code",
   "execution_count": 131,
   "metadata": {},
   "outputs": [],
   "source": [
    "#word embedding\n",
    "embeds=nn.Embedding(VOCAB_SIZE,WORD_EMBEDDING_DIM)"
   ]
  },
  {
   "cell_type": "code",
   "execution_count": 134,
   "metadata": {},
   "outputs": [
    {
     "data": {
      "text/plain": [
       "torch.Size([15, 10, 20, 300])"
      ]
     },
     "execution_count": 134,
     "metadata": {},
     "output_type": "execute_result"
    }
   ],
   "source": [
    "#每个user/item的reviews\n",
    "reviews=torch.randint(0,VOCAB_SIZE,(REVIEW_PER_OBJECT,SENT_PER_REVIEW,WORD_PER_SENT))\n",
    "word_embed=embeds(reviews)\n",
    "word_embed.size()"
   ]
  },
  {
   "cell_type": "code",
   "execution_count": 135,
   "metadata": {},
   "outputs": [],
   "source": [
    "word_level_cnn=nn.Conv1d(WORD_EMBEDDING_DIM,#in_channels\n",
    "                         WORD_LEVEL_CNN_FILTER,#out_channels\n",
    "                         WORD_LEVEL_CNN_WIN_SIZE,#kernel_size\n",
    "                         padding=SENT_LEVEL_CNN_WIN_SIZE//2)"
   ]
  },
  {
   "cell_type": "code",
   "execution_count": 159,
   "metadata": {},
   "outputs": [
    {
     "data": {
      "text/plain": [
       "torch.Size([15, 10, 20, 200])"
      ]
     },
     "execution_count": 159,
     "metadata": {},
     "output_type": "execute_result"
    }
   ],
   "source": [
    "word_before_attention=word_level_cnn(word_embed.view(-1,WORD_PER_SENT,WORD_EMBEDDING_DIM).permute(0,2,1)).permute(0,2,1).view(REVIEW_PER_OBJECT,SENT_PER_REVIEW,WORD_PER_SENT,WORD_LEVEL_CNN_FILTER)\n",
    "word_before_attention.size()"
   ]
  },
  {
   "cell_type": "code",
   "execution_count": 214,
   "metadata": {},
   "outputs": [],
   "source": [
    "word_level_attention=nn.Linear(WORD_LEVEL_CNN_FILTER,1,True)"
   ]
  },
  {
   "cell_type": "code",
   "execution_count": 229,
   "metadata": {},
   "outputs": [
    {
     "data": {
      "text/plain": [
       "torch.Size([15, 10, 20, 1])"
      ]
     },
     "execution_count": 229,
     "metadata": {},
     "output_type": "execute_result"
    }
   ],
   "source": [
    "#w_attention=word_level_attention(word_before_attention.contiguous().view(-1,WORD_LEVEL_CNN_FILTER)).view(REVIEW_PER_OBJECT,SENT_PER_REVIEW,WORD_PER_SENT,1)\n",
    "w_attention=torch.tanh(word_level_attention(word_before_attention))\n",
    "w_attention.size()"
   ]
  },
  {
   "cell_type": "code",
   "execution_count": 216,
   "metadata": {},
   "outputs": [
    {
     "data": {
      "text/plain": [
       "torch.Size([15, 10, 20, 1])"
      ]
     },
     "execution_count": 216,
     "metadata": {},
     "output_type": "execute_result"
    }
   ],
   "source": [
    "w_attention2=F.softmax(w_attention,2)\n",
    "w_attention2.size()"
   ]
  },
  {
   "cell_type": "code",
   "execution_count": 217,
   "metadata": {},
   "outputs": [
    {
     "data": {
      "text/plain": [
       "torch.Size([15, 10, 200])"
      ]
     },
     "execution_count": 217,
     "metadata": {},
     "output_type": "execute_result"
    }
   ],
   "source": [
    "sentence=torch.sum(w_attention2*word_before_attention,dim=2)\n",
    "sentence.size()"
   ]
  },
  {
   "cell_type": "code",
   "execution_count": 218,
   "metadata": {},
   "outputs": [],
   "source": [
    "sent_level_cnn=nn.Conv1d(WORD_LEVEL_CNN_FILTER,SENT_LEVEL_CNN_FILTER,SENT_LEVEL_CNN_WIN_SIZE,padding=SENT_LEVEL_CNN_WIN_SIZE//2)"
   ]
  },
  {
   "cell_type": "code",
   "execution_count": 219,
   "metadata": {},
   "outputs": [
    {
     "data": {
      "text/plain": [
       "torch.Size([15, 10, 100])"
      ]
     },
     "execution_count": 219,
     "metadata": {},
     "output_type": "execute_result"
    }
   ],
   "source": [
    "sent_before_attention=sent_level_cnn(sentence.permute(0,2,1)).permute(0,2,1)\n",
    "sent_before_attention.size()"
   ]
  },
  {
   "cell_type": "code",
   "execution_count": 220,
   "metadata": {},
   "outputs": [],
   "source": [
    "sent_level_attention=nn.Linear(SENT_LEVEL_CNN_FILTER,1,True)"
   ]
  },
  {
   "cell_type": "code",
   "execution_count": 228,
   "metadata": {},
   "outputs": [
    {
     "data": {
      "text/plain": [
       "torch.Size([15, 10, 1])"
      ]
     },
     "execution_count": 228,
     "metadata": {},
     "output_type": "execute_result"
    }
   ],
   "source": [
    "s_attention=torch.tanh(sent_level_attention(sent_before_attention))\n",
    "s_attention.size()"
   ]
  },
  {
   "cell_type": "code",
   "execution_count": 222,
   "metadata": {},
   "outputs": [
    {
     "data": {
      "text/plain": [
       "torch.Size([15, 10, 1])"
      ]
     },
     "execution_count": 222,
     "metadata": {},
     "output_type": "execute_result"
    }
   ],
   "source": [
    "s_attenion2=F.softmax(s_attention,1)\n",
    "s_attenion2.size()"
   ]
  },
  {
   "cell_type": "code",
   "execution_count": 225,
   "metadata": {},
   "outputs": [
    {
     "data": {
      "text/plain": [
       "torch.Size([15, 100])"
      ]
     },
     "execution_count": 225,
     "metadata": {},
     "output_type": "execute_result"
    }
   ],
   "source": [
    "object_embed_before_attention=torch.sum(s_attenion2*sent_before_attention,dim=1)\n",
    "object_embed_before_attention.size()"
   ]
  },
  {
   "cell_type": "code",
   "execution_count": 224,
   "metadata": {},
   "outputs": [],
   "source": [
    "review_level_attention=nn.Linear(SENT_LEVEL_CNN_FILTER,1,True)"
   ]
  },
  {
   "cell_type": "code",
   "execution_count": 227,
   "metadata": {},
   "outputs": [
    {
     "data": {
      "text/plain": [
       "torch.Size([15, 1])"
      ]
     },
     "execution_count": 227,
     "metadata": {},
     "output_type": "execute_result"
    }
   ],
   "source": [
    "r_attention=torch.tanh(review_level_attention(object_embed_before_attention))\n",
    "r_attention.size()"
   ]
  },
  {
   "cell_type": "code",
   "execution_count": 232,
   "metadata": {},
   "outputs": [
    {
     "data": {
      "text/plain": [
       "torch.Size([15, 1])"
      ]
     },
     "execution_count": 232,
     "metadata": {},
     "output_type": "execute_result"
    }
   ],
   "source": [
    "r_attention2=F.softmax(r_attention,dim=0)\n",
    "r_attention2.size()"
   ]
  },
  {
   "cell_type": "code",
   "execution_count": 237,
   "metadata": {},
   "outputs": [
    {
     "data": {
      "text/plain": [
       "torch.Size([100])"
      ]
     },
     "execution_count": 237,
     "metadata": {},
     "output_type": "execute_result"
    }
   ],
   "source": [
    "object_embed=torch.sum(r_attention2*object_embed_before_attention,dim=0)\n",
    "object_embed.size()"
   ]
  },
  {
   "cell_type": "code",
   "execution_count": 268,
   "metadata": {},
   "outputs": [],
   "source": [
    "class HUITA_embed_nn(nn.Module):\n",
    "    def __init__(self):\n",
    "        super(HUITA_embed_nn,self).__init__()\n",
    "        self.embeds=nn.Embedding(VOCAB_SIZE,WORD_EMBEDDING_DIM)\n",
    "        self.word_level_cnn=nn.Conv1d(WORD_EMBEDDING_DIM,WORD_LEVEL_CNN_FILTER,WORD_LEVEL_CNN_WIN_SIZE,padding=SENT_LEVEL_CNN_WIN_SIZE//2)\n",
    "        self.word_level_attention=nn.Linear(WORD_LEVEL_CNN_FILTER,1,True)\n",
    "        self.sent_level_cnn=nn.Conv1d(WORD_LEVEL_CNN_FILTER,SENT_LEVEL_CNN_FILTER,SENT_LEVEL_CNN_WIN_SIZE,padding=SENT_LEVEL_CNN_WIN_SIZE//2)\n",
    "        self.sent_level_attention=nn.Linear(SENT_LEVEL_CNN_FILTER,1,True)\n",
    "        self.review_level_attention=nn.Linear(SENT_LEVEL_CNN_FILTER,1,True)\n",
    "        \n",
    "    \n",
    "    def forward(self,reviews):\n",
    "        word_embed=self.embeds(reviews)\n",
    "        word_before_attention=self.word_level_cnn(word_embed.view(-1,WORD_PER_SENT,WORD_EMBEDDING_DIM).permute(0,2,1)).permute(0,2,1).view(REVIEW_PER_OBJECT,SENT_PER_REVIEW,WORD_PER_SENT,WORD_LEVEL_CNN_FILTER)\n",
    "        w_attention=torch.tanh(self.word_level_attention(word_before_attention))\n",
    "        w_attention2=F.softmax(w_attention,2)\n",
    "        sentence=torch.sum(w_attention2*word_before_attention,dim=2)\n",
    "        sent_before_attention=self.sent_level_cnn(sentence.permute(0,2,1)).permute(0,2,1)\n",
    "        s_attention=torch.tanh(self.sent_level_attention(sent_before_attention))\n",
    "        s_attenion2=F.softmax(s_attention,1)\n",
    "        object_embed_before_attention=torch.sum(s_attenion2*sent_before_attention,dim=1)\n",
    "        r_attention=torch.tanh(self.review_level_attention(object_embed_before_attention))\n",
    "        r_attention2=F.softmax(r_attention,dim=0)\n",
    "        object_embed=torch.sum(r_attention2*object_embed_before_attention,dim=0)\n",
    "        return object_embed"
   ]
  },
  {
   "cell_type": "code",
   "execution_count": 269,
   "metadata": {},
   "outputs": [],
   "source": [
    "class HUITA_predict(nn.Module):\n",
    "    def __init__(self):\n",
    "        super(HUITA_predict,self).__init__()\n",
    "        self.prediction_nn=nn.Linear(SENT_LEVEL_CNN_FILTER,1,True)\n",
    "        \n",
    "    def forward(self,user_reviews,item_reviews):\n",
    "        embed=HUITA_embed_nn()\n",
    "        user_embed=embed(user_reviews)\n",
    "        item_embed=embed(item_reviews)\n",
    "        rating=F.relu(self.prediction_nn(user_embed*item_embed))\n",
    "        return rating"
   ]
  },
  {
   "cell_type": "code",
   "execution_count": 270,
   "metadata": {},
   "outputs": [],
   "source": [
    "losses = []\n",
    "loss_function = nn.MSELoss()\n",
    "model = HUITA_predict()\n",
    "optimizer = optim.Adam(model.parameters(), lr=0.001)\n",
    "for epoch in range(10):\n",
    "    model.zero_grad()\n",
    "    predict_r=model(reviews,reviews)\n",
    "    loss = loss_function(predict_r, torch.tensor([4.9],dtype=torch.float)) #just demo\n",
    "    losses.append(loss)"
   ]
  },
  {
   "cell_type": "code",
   "execution_count": 271,
   "metadata": {},
   "outputs": [
    {
     "data": {
      "text/plain": [
       "[tensor(24.0100, grad_fn=<MseLossBackward>),\n",
       " tensor(24.0100, grad_fn=<MseLossBackward>),\n",
       " tensor(24.0100, grad_fn=<MseLossBackward>),\n",
       " tensor(24.0100, grad_fn=<MseLossBackward>),\n",
       " tensor(24.0100, grad_fn=<MseLossBackward>),\n",
       " tensor(24.0100, grad_fn=<MseLossBackward>),\n",
       " tensor(24.0100, grad_fn=<MseLossBackward>),\n",
       " tensor(24.0100, grad_fn=<MseLossBackward>),\n",
       " tensor(24.0100, grad_fn=<MseLossBackward>),\n",
       " tensor(24.0100, grad_fn=<MseLossBackward>)]"
      ]
     },
     "execution_count": 271,
     "metadata": {},
     "output_type": "execute_result"
    }
   ],
   "source": [
    "losses"
   ]
  },
  {
   "cell_type": "code",
   "execution_count": 272,
   "metadata": {},
   "outputs": [
    {
     "data": {
      "text/plain": [
       "tensor([1, 4, 9])"
      ]
     },
     "execution_count": 272,
     "metadata": {},
     "output_type": "execute_result"
    }
   ],
   "source": [
    "x=torch.tensor([1,2,3])\n",
    "x*x"
   ]
  },
  {
   "cell_type": "code",
   "execution_count": 70,
   "metadata": {},
   "outputs": [
    {
     "name": "stdout",
     "output_type": "stream",
     "text": [
      "[(['When', 'forty'], 'winters'), (['forty', 'winters'], 'shall'), (['winters', 'shall'], 'besiege')]\n",
      "[517.6566867828369, 515.2297914028168, 512.8179616928101, 510.4198820590973, 508.0348553657532, 505.66215205192566, 503.30089378356934, 500.9498529434204, 498.6096065044403, 496.279981136322]\n"
     ]
    }
   ],
   "source": [
    "CONTEXT_SIZE = 2\n",
    "EMBEDDING_DIM = 10\n",
    "# We will use Shakespeare Sonnet 2\n",
    "test_sentence = \"\"\"When forty winters shall besiege thy brow,\n",
    "And dig deep trenches in thy beauty's field,\n",
    "Thy youth's proud livery so gazed on now,\n",
    "Will be a totter'd weed of small worth held:\n",
    "Then being asked, where all thy beauty lies,\n",
    "Where all the treasure of thy lusty days;\n",
    "To say, within thine own deep sunken eyes,\n",
    "Were an all-eating shame, and thriftless praise.\n",
    "How much more praise deserv'd thy beauty's use,\n",
    "If thou couldst answer 'This fair child of mine\n",
    "Shall sum my count, and make my old excuse,'\n",
    "Proving his beauty by succession thine!\n",
    "This were to be new made when thou art old,\n",
    "And see thy blood warm when thou feel'st it cold.\"\"\".split()\n",
    "# we should tokenize the input, but we will ignore that for now\n",
    "# build a list of tuples.  Each tuple is ([ word_i-2, word_i-1 ], target word)\n",
    "trigrams = [([test_sentence[i], test_sentence[i + 1]], test_sentence[i + 2])\n",
    "            for i in range(len(test_sentence) - 2)]\n",
    "# print the first 3, just so you can see what they look like\n",
    "print(trigrams[:3])\n",
    "\n",
    "vocab = set(test_sentence)\n",
    "word_to_ix = {word: i for i, word in enumerate(vocab)}\n",
    "\n",
    "\n",
    "class NGramLanguageModeler(nn.Module):\n",
    "\n",
    "    def __init__(self, vocab_size, embedding_dim, context_size):\n",
    "        super(NGramLanguageModeler, self).__init__()\n",
    "        self.embeddings = nn.Embedding(vocab_size, embedding_dim)\n",
    "        self.linear1 = nn.Linear(context_size * embedding_dim, 128)\n",
    "        self.linear2 = nn.Linear(128, vocab_size)\n",
    "\n",
    "    def forward(self, inputs):\n",
    "        embeds = self.embeddings(inputs).view((1, -1))\n",
    "        out = F.relu(self.linear1(embeds))\n",
    "        out = self.linear2(out)\n",
    "        log_probs = F.log_softmax(out, dim=1)\n",
    "        return log_probs\n",
    "\n",
    "\n",
    "losses = []\n",
    "loss_function = nn.NLLLoss()\n",
    "model = NGramLanguageModeler(len(vocab), EMBEDDING_DIM, CONTEXT_SIZE)\n",
    "optimizer = optim.SGD(model.parameters(), lr=0.001)\n",
    "\n",
    "for epoch in range(10):\n",
    "    total_loss = 0\n",
    "    for context, target in trigrams:\n",
    "\n",
    "        # Step 1. Prepare the inputs to be passed to the model (i.e, turn the words\n",
    "        # into integer indices and wrap them in tensors)\n",
    "        context_idxs = torch.tensor([word_to_ix[w] for w in context], dtype=torch.long)\n",
    "\n",
    "        # Step 2. Recall that torch *accumulates* gradients. Before passing in a\n",
    "        # new instance, you need to zero out the gradients from the old\n",
    "        # instance\n",
    "        model.zero_grad()\n",
    "\n",
    "        # Step 3. Run the forward pass, getting log probabilities over next\n",
    "        # words\n",
    "        log_probs = model(context_idxs)\n",
    "\n",
    "        # Step 4. Compute your loss function. (Again, Torch wants the target\n",
    "        # word wrapped in a tensor)\n",
    "        loss = loss_function(log_probs, torch.tensor([word_to_ix[target]], dtype=torch.long))\n",
    "\n",
    "        # Step 5. Do the backward pass and update the gradient\n",
    "        loss.backward()\n",
    "        optimizer.step()\n",
    "\n",
    "        # Get the Python number from a 1-element Tensor by calling tensor.item()\n",
    "        total_loss += loss.item()\n",
    "    losses.append(total_loss)\n",
    "print(losses)  # The loss decreased every iteration over the training data!"
   ]
  },
  {
   "cell_type": "code",
   "execution_count": 33,
   "metadata": {},
   "outputs": [],
   "source": [
    "x=torch.randn(2,3)\n",
    "y=torch.randn(2,5)\n",
    "z=torch.cat([x,y],1)"
   ]
  },
  {
   "cell_type": "code",
   "execution_count": null,
   "metadata": {},
   "outputs": [],
   "source": []
  }
 ],
 "metadata": {
  "kernelspec": {
   "display_name": "Python 3",
   "language": "python",
   "name": "python3"
  },
  "language_info": {
   "codemirror_mode": {
    "name": "ipython",
    "version": 3
   },
   "file_extension": ".py",
   "mimetype": "text/x-python",
   "name": "python",
   "nbconvert_exporter": "python",
   "pygments_lexer": "ipython3",
   "version": "3.7.3"
  }
 },
 "nbformat": 4,
 "nbformat_minor": 2
}
